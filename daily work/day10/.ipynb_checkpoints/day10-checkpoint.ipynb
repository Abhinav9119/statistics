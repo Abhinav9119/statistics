{
 "cells": [
  {
   "cell_type": "code",
   "execution_count": 1,
   "id": "812a756b-1472-450f-9c13-add2e073c58a",
   "metadata": {},
   "outputs": [],
   "source": [
    "import numpy as np\n",
    "import pandas as pd\n",
    "from scipy.stats import f_oneway\n",
    "from scipy import stats\n",
    "from pandas import read_csv"
   ]
  },
  {
   "cell_type": "code",
   "execution_count": null,
   "id": "51ab958e-9f35-4bb2-ad68-e5516a4a6d56",
   "metadata": {},
   "outputs": [],
   "source": [
    "alpha=0.05\n",
    "critical_value=t.ppf(1-a;pha)"
   ]
  },
  {
   "cell_type": "code",
   "execution_count": null,
   "id": "5da2757c-3c4f-4b5c-b57f-52852a3373ac",
   "metadata": {},
   "outputs": [],
   "source": []
  },
  {
   "cell_type": "code",
   "execution_count": null,
   "id": "64cd5758-8d53-4ce5-9040-b7f699de42b5",
   "metadata": {},
   "outputs": [],
   "source": [
    "#Interpretation:\n",
    "if pval<alpha:\n",
    "    print(\"reject null hypothesis: there a significant difference in usage before and after the campaogn mght be due to chance (p<==0.05)\")\n",
    "else:\n",
    "    print(\"fail to reject null hypothesis the difference in usage before and after the campaogn might be due to chance (p>=0.05)\")\n",
    "    "
   ]
  },
  {
   "cell_type": "code",
   "execution_count": null,
   "id": "b86be5bb-dc74-4dec-b1fe-6848d79b8802",
   "metadata": {},
   "outputs": [],
   "source": []
  },
  {
   "cell_type": "code",
   "execution_count": null,
   "id": "ff1d5a37-fe02-419c-bea1-7d77d886e14c",
   "metadata": {},
   "outputs": [],
   "source": []
  },
  {
   "cell_type": "code",
   "execution_count": null,
   "id": "516d1467-b291-4c65-9fdf-58cf752a61df",
   "metadata": {},
   "outputs": [],
   "source": [
    "if abs (tstat)>critical_value:\n",
    "    print(\"the difference is statistically significant at the 5%lecel (|t|>critical value)\")\n",
    "else:\n",
    "    print(\"the difference is statistically significant (|t|<=critical value)\")\n",
    "    "
   ]
  },
  {
   "cell_type": "code",
   "execution_count": null,
   "id": "f0f9db1c-e01e-4799-99c8-d2e5aa2dc0b3",
   "metadata": {},
   "outputs": [],
   "source": []
  },
  {
   "cell_type": "markdown",
   "id": "27cb5ff2-8798-48fa-a64e-a6c5129369b1",
   "metadata": {},
   "source": [
    "<h1>ANOVA test<h/1>"
   ]
  },
  {
   "cell_type": "code",
   "execution_count": 17,
   "id": "7a6f9cc9-c1a0-4425-bd69-1950b085a6bf",
   "metadata": {},
   "outputs": [
    {
     "data": {
      "text/html": [
       "<div>\n",
       "<style scoped>\n",
       "    .dataframe tbody tr th:only-of-type {\n",
       "        vertical-align: middle;\n",
       "    }\n",
       "\n",
       "    .dataframe tbody tr th {\n",
       "        vertical-align: top;\n",
       "    }\n",
       "\n",
       "    .dataframe thead th {\n",
       "        text-align: right;\n",
       "    }\n",
       "</style>\n",
       "<table border=\"1\" class=\"dataframe\">\n",
       "  <thead>\n",
       "    <tr style=\"text-align: right;\">\n",
       "      <th></th>\n",
       "      <th>custid</th>\n",
       "      <th>sex</th>\n",
       "      <th>AqChannel</th>\n",
       "      <th>region</th>\n",
       "      <th>Marital_status</th>\n",
       "      <th>segment</th>\n",
       "      <th>pre_usage</th>\n",
       "      <th>Post_usage_1month</th>\n",
       "      <th>Latest_mon_usage</th>\n",
       "      <th>post_usage_2ndmonth</th>\n",
       "    </tr>\n",
       "  </thead>\n",
       "  <tbody>\n",
       "    <tr>\n",
       "      <th>0</th>\n",
       "      <td>70</td>\n",
       "      <td>0</td>\n",
       "      <td>4</td>\n",
       "      <td>1</td>\n",
       "      <td>1</td>\n",
       "      <td>1</td>\n",
       "      <td>57</td>\n",
       "      <td>52</td>\n",
       "      <td>49.2</td>\n",
       "      <td>57.2</td>\n",
       "    </tr>\n",
       "    <tr>\n",
       "      <th>1</th>\n",
       "      <td>121</td>\n",
       "      <td>1</td>\n",
       "      <td>4</td>\n",
       "      <td>2</td>\n",
       "      <td>1</td>\n",
       "      <td>3</td>\n",
       "      <td>68</td>\n",
       "      <td>59</td>\n",
       "      <td>63.6</td>\n",
       "      <td>64.9</td>\n",
       "    </tr>\n",
       "    <tr>\n",
       "      <th>2</th>\n",
       "      <td>86</td>\n",
       "      <td>0</td>\n",
       "      <td>4</td>\n",
       "      <td>3</td>\n",
       "      <td>1</td>\n",
       "      <td>1</td>\n",
       "      <td>44</td>\n",
       "      <td>33</td>\n",
       "      <td>64.8</td>\n",
       "      <td>36.3</td>\n",
       "    </tr>\n",
       "    <tr>\n",
       "      <th>3</th>\n",
       "      <td>141</td>\n",
       "      <td>0</td>\n",
       "      <td>4</td>\n",
       "      <td>3</td>\n",
       "      <td>1</td>\n",
       "      <td>3</td>\n",
       "      <td>63</td>\n",
       "      <td>44</td>\n",
       "      <td>56.4</td>\n",
       "      <td>48.4</td>\n",
       "    </tr>\n",
       "    <tr>\n",
       "      <th>4</th>\n",
       "      <td>172</td>\n",
       "      <td>0</td>\n",
       "      <td>4</td>\n",
       "      <td>2</td>\n",
       "      <td>1</td>\n",
       "      <td>2</td>\n",
       "      <td>47</td>\n",
       "      <td>52</td>\n",
       "      <td>68.4</td>\n",
       "      <td>57.2</td>\n",
       "    </tr>\n",
       "  </tbody>\n",
       "</table>\n",
       "</div>"
      ],
      "text/plain": [
       "   custid  sex  AqChannel  region  Marital_status  segment  pre_usage  \\\n",
       "0      70    0          4       1               1        1         57   \n",
       "1     121    1          4       2               1        3         68   \n",
       "2      86    0          4       3               1        1         44   \n",
       "3     141    0          4       3               1        3         63   \n",
       "4     172    0          4       2               1        2         47   \n",
       "\n",
       "   Post_usage_1month  Latest_mon_usage  post_usage_2ndmonth  \n",
       "0                 52              49.2                 57.2  \n",
       "1                 59              63.6                 64.9  \n",
       "2                 33              64.8                 36.3  \n",
       "3                 44              56.4                 48.4  \n",
       "4                 52              68.4                 57.2  "
      ]
     },
     "execution_count": 17,
     "metadata": {},
     "output_type": "execute_result"
    }
   ],
   "source": [
    "df=read_csv(\"cust_seg.csv\")\n",
    "df.head()"
   ]
  },
  {
   "cell_type": "code",
   "execution_count": 18,
   "id": "bfd09a5b-d2bc-44f5-8915-0a781674db12",
   "metadata": {},
   "outputs": [
    {
     "name": "stdout",
     "output_type": "stream",
     "text": [
      "segment\n",
      "2    105\n",
      "3     50\n",
      "1     45\n",
      "Name: count, dtype: int64\n"
     ]
    }
   ],
   "source": [
    "#find how many segments and how many customers per segment we have\n",
    "print(df.segment.value_counts())\n"
   ]
  },
  {
   "cell_type": "code",
   "execution_count": 4,
   "id": "019d884e-51b9-4058-887b-181e56410586",
   "metadata": {},
   "outputs": [],
   "source": [
    "#seperate segments\n",
    "s1=df.Latest_mon_usage[df.segment==1]\n",
    "s2=df.Latest_mon_usage[df.segment==2]\n",
    "s3=df.Latest_mon_usage[df.segment==3]"
   ]
  },
  {
   "cell_type": "code",
   "execution_count": 5,
   "id": "1c48201f-54ec-4887-ab56-3ce35ab0609a",
   "metadata": {},
   "outputs": [],
   "source": [
    "#anova\n",
    "fstat,pval=f_oneway(s1,s2,s3)"
   ]
  },
  {
   "cell_type": "code",
   "execution_count": 41,
   "id": "94c2f0d0-9704-417a-8a11-0f5c10eb197c",
   "metadata": {},
   "outputs": [],
   "source": [
    "#degree of fredom\n",
    "between_df=len(s1)-1\n",
    "within_df=3"
   ]
  },
  {
   "cell_type": "code",
   "execution_count": 42,
   "id": "c3f12294-1215-48ac-a701-847a82c022c0",
   "metadata": {},
   "outputs": [],
   "source": [
    "#critical value (alpha=0.5)\n",
    "alpha=0.5\n",
    "critical_value=stats.f.ppf(1-alpha,between_df,within_df)  #one tailed critical value\n"
   ]
  },
  {
   "cell_type": "code",
   "execution_count": 43,
   "id": "d7ac5a93-b5c3-47c1-9d52-55f247b89d91",
   "metadata": {},
   "outputs": [
    {
     "name": "stdout",
     "output_type": "stream",
     "text": [
      "\n",
      "F-statistic: 6.52,\n",
      "p-value:0.0000\n",
      "critical value (alpha=0.5): 1.26\n"
     ]
    }
   ],
   "source": [
    "#print results\n",
    "print(f\"\\nF-statistic: {fstat:.2f},\\np-value:{pval:.4f}\")\n",
    "print(f\"critical value (alpha={alpha}): {critical_value:.2f}\")"
   ]
  },
  {
   "cell_type": "code",
   "execution_count": 44,
   "id": "85f1062a-d269-40e1-aaac-11974a91190d",
   "metadata": {},
   "outputs": [
    {
     "name": "stdout",
     "output_type": "stream",
     "text": [
      "reject null hypothesis : there a significant difference in latest_mo_usage across customer segment(p<0.05)\n"
     ]
    }
   ],
   "source": [
    "#inte4rpretation (add your own logic here)\n",
    "if pval <alpha:\n",
    "    print(\"reject null hypothesis : there a significant difference in latest_mo_usage across customer segment(p<0.05)\")\n",
    "else:\n",
    "    print(\"fail to reject null hypothesis : the latest_mon_usage might be similar across segment(p>=0.05)\")\n",
    "    "
   ]
  },
  {
   "cell_type": "code",
   "execution_count": 45,
   "id": "28d80fe0-3619-4e9f-8211-d1bff7e8f8e1",
   "metadata": {},
   "outputs": [
    {
     "name": "stdout",
     "output_type": "stream",
     "text": [
      "F-score is greater than the critical value, suggesting significant differences exist\n"
     ]
    }
   ],
   "source": [
    "if fstat>critical_value:\n",
    "    print(\"F-score is greater than the critical value, suggesting significant differences exist\")\n",
    "else:\n",
    "    print(\"f- score is not significant enough to reject the null hypothesis.\")"
   ]
  },
  {
   "cell_type": "markdown",
   "id": "fbd93841-eedf-4772-92e3-5a2b80fb1b73",
   "metadata": {},
   "source": [
    "<h2>assignment<h/2>"
   ]
  },
  {
   "cell_type": "code",
   "execution_count": null,
   "id": "e5979e12-8aab-4637-bed3-7768d3610fa8",
   "metadata": {},
   "outputs": [],
   "source": [
    "\"\"\"\n",
    "For StudentsPerformance.csv, using ANOVA, find if there is a significant difference in \n",
    "Maths marks depending on the level of parental education.\n",
    "\"\"\""
   ]
  },
  {
   "cell_type": "code",
   "execution_count": 33,
   "id": "efddbb60-dd80-4602-a60e-a2587ca13ef6",
   "metadata": {},
   "outputs": [],
   "source": [
    "df=read_csv(\"StudentsPerformance.csv\")"
   ]
  },
  {
   "cell_type": "code",
   "execution_count": 34,
   "id": "69ecf7be-5321-46e4-8faa-566097476871",
   "metadata": {},
   "outputs": [
    {
     "data": {
      "text/html": [
       "<div>\n",
       "<style scoped>\n",
       "    .dataframe tbody tr th:only-of-type {\n",
       "        vertical-align: middle;\n",
       "    }\n",
       "\n",
       "    .dataframe tbody tr th {\n",
       "        vertical-align: top;\n",
       "    }\n",
       "\n",
       "    .dataframe thead th {\n",
       "        text-align: right;\n",
       "    }\n",
       "</style>\n",
       "<table border=\"1\" class=\"dataframe\">\n",
       "  <thead>\n",
       "    <tr style=\"text-align: right;\">\n",
       "      <th></th>\n",
       "      <th>gender</th>\n",
       "      <th>race/ethnicity</th>\n",
       "      <th>parental level of education</th>\n",
       "      <th>lunch</th>\n",
       "      <th>test preparation course</th>\n",
       "      <th>math score</th>\n",
       "      <th>reading score</th>\n",
       "      <th>writing score</th>\n",
       "    </tr>\n",
       "  </thead>\n",
       "  <tbody>\n",
       "    <tr>\n",
       "      <th>0</th>\n",
       "      <td>female</td>\n",
       "      <td>group B</td>\n",
       "      <td>bachelor's degree</td>\n",
       "      <td>standard</td>\n",
       "      <td>none</td>\n",
       "      <td>72</td>\n",
       "      <td>72</td>\n",
       "      <td>74</td>\n",
       "    </tr>\n",
       "    <tr>\n",
       "      <th>1</th>\n",
       "      <td>female</td>\n",
       "      <td>group C</td>\n",
       "      <td>some college</td>\n",
       "      <td>standard</td>\n",
       "      <td>completed</td>\n",
       "      <td>69</td>\n",
       "      <td>90</td>\n",
       "      <td>88</td>\n",
       "    </tr>\n",
       "    <tr>\n",
       "      <th>2</th>\n",
       "      <td>female</td>\n",
       "      <td>group B</td>\n",
       "      <td>master's degree</td>\n",
       "      <td>standard</td>\n",
       "      <td>none</td>\n",
       "      <td>90</td>\n",
       "      <td>95</td>\n",
       "      <td>93</td>\n",
       "    </tr>\n",
       "    <tr>\n",
       "      <th>3</th>\n",
       "      <td>male</td>\n",
       "      <td>group A</td>\n",
       "      <td>associate's degree</td>\n",
       "      <td>free/reduced</td>\n",
       "      <td>none</td>\n",
       "      <td>47</td>\n",
       "      <td>57</td>\n",
       "      <td>44</td>\n",
       "    </tr>\n",
       "    <tr>\n",
       "      <th>4</th>\n",
       "      <td>male</td>\n",
       "      <td>group C</td>\n",
       "      <td>some college</td>\n",
       "      <td>standard</td>\n",
       "      <td>none</td>\n",
       "      <td>76</td>\n",
       "      <td>78</td>\n",
       "      <td>75</td>\n",
       "    </tr>\n",
       "  </tbody>\n",
       "</table>\n",
       "</div>"
      ],
      "text/plain": [
       "   gender race/ethnicity parental level of education         lunch  \\\n",
       "0  female        group B           bachelor's degree      standard   \n",
       "1  female        group C                some college      standard   \n",
       "2  female        group B             master's degree      standard   \n",
       "3    male        group A          associate's degree  free/reduced   \n",
       "4    male        group C                some college      standard   \n",
       "\n",
       "  test preparation course  math score  reading score  writing score  \n",
       "0                    none          72             72             74  \n",
       "1               completed          69             90             88  \n",
       "2                    none          90             95             93  \n",
       "3                    none          47             57             44  \n",
       "4                    none          76             78             75  "
      ]
     },
     "execution_count": 34,
     "metadata": {},
     "output_type": "execute_result"
    }
   ],
   "source": [
    "df.head()"
   ]
  },
  {
   "cell_type": "code",
   "execution_count": 35,
   "id": "a6b14203-ba13-4804-bdaa-993dc6c3b2a3",
   "metadata": {},
   "outputs": [
    {
     "name": "stdout",
     "output_type": "stream",
     "text": [
      "parental level of education\n",
      "some college          226\n",
      "associate's degree    222\n",
      "high school           196\n",
      "some high school      179\n",
      "bachelor's degree     118\n",
      "master's degree        59\n",
      "Name: count, dtype: int64\n"
     ]
    }
   ],
   "source": [
    "#find parental education \n",
    "print(df['parental level of education'].value_counts())"
   ]
  },
  {
   "cell_type": "code",
   "execution_count": 49,
   "id": "154d8703-ef2b-4907-a3ae-f6b58ea10831",
   "metadata": {},
   "outputs": [],
   "source": [
    "# #seperate segments\n",
    "# s1=df.Latest_mon_usage[df.segment==1]\n",
    "# s2=df.Latest_mon_usage[df.segment==2]\n",
    "# s3=df.Latest_mon_usage[df.segment==3]\n",
    "\n",
    "#seperate by parental education\n",
    "s1=df[\"math score\"][df['parental level of education']==\"some college\"]\n",
    "s2=df[\"math score\"][df['parental level of education']==\"associate's degree\"]\n",
    "s3=df[\"math score\"][df['parental level of education']==\"high school\"]\n",
    "s4=df[\"math score\"][df['parental level of education']==\"some high school\"]\n",
    "s5=df[\"math score\"][df['parental level of education']==\"bachelor's degree\"]\n",
    "s6=df[\"math score\"][df[\"parental level of education\"]==\"master's degree\"]\n"
   ]
  },
  {
   "cell_type": "code",
   "execution_count": 50,
   "id": "afda0402-de1a-4fef-8328-2b662363a78b",
   "metadata": {},
   "outputs": [],
   "source": [
    "#anova\n",
    "fstat,pval=f_oneway(s1,s2,s3,s4,s5,s6)"
   ]
  },
  {
   "cell_type": "code",
   "execution_count": 51,
   "id": "b1c9b5e8-dd06-42a9-b035-e34038e448e3",
   "metadata": {},
   "outputs": [],
   "source": [
    "#degree of fredom\n",
    "between_df=len(s1)-1 # leave default or try doing for all categories or take average of all categories\n",
    "within_df=6"
   ]
  },
  {
   "cell_type": "code",
   "execution_count": 70,
   "id": "bc482443-ee33-48ea-9aba-911180d8491b",
   "metadata": {},
   "outputs": [],
   "source": [
    "#critical value (alpha=0.5)\n",
    "alpha=0.05\n",
    "critical_value=stats.f.ppf(1-alpha/2,between_df,within_df)  #two tailed critical value"
   ]
  },
  {
   "cell_type": "code",
   "execution_count": 71,
   "id": "e2b10355-9dba-4e73-b324-354479907255",
   "metadata": {},
   "outputs": [
    {
     "name": "stdout",
     "output_type": "stream",
     "text": [
      "f-statistic:6.52,\n",
      "p-value:0.0000\n",
      "critical value(alpha=0.05):4.88\n"
     ]
    }
   ],
   "source": [
    "#print results\n",
    "print(f\"f-statistic:{fstat:.2f},\\np-value:{pval:.4f}\")\n",
    "print(f\"critical value(alpha={alpha}):{critical_value:.2f}\")"
   ]
  },
  {
   "cell_type": "code",
   "execution_count": 72,
   "id": "82beff24-022b-4517-88f5-a20e6c3c680f",
   "metadata": {},
   "outputs": [
    {
     "name": "stdout",
     "output_type": "stream",
     "text": [
      "reject null hypothesis : there a significant difference in latest_mo_usage across customer segment(p<0.05)\n"
     ]
    }
   ],
   "source": [
    "#inte4rpretation (add your own logic here)\n",
    "\n",
    "if pval<alpha:\n",
    "    print(\"reject null hypothesis : there a significant difference in latest_mo_usage across customer segment(p<0.05)\")\n",
    "else:\n",
    "    print(\"fail to reject null hypothesis : the latest_mon_usage might be similar across segment(p>=0.05)\")"
   ]
  },
  {
   "cell_type": "code",
   "execution_count": 73,
   "id": "bd0f73a8-4b66-400b-971c-35ea36785306",
   "metadata": {},
   "outputs": [
    {
     "name": "stdout",
     "output_type": "stream",
     "text": [
      "F-score is greater than the critical value suggesting significant differences exist\n"
     ]
    }
   ],
   "source": [
    "if fstat>critical_value:\n",
    "    print(\"F-score is greater than the critical value suggesting significant differences exist\")\n",
    "else:\n",
    "    print(\"f- score is not significant enougn to reject the null hypothesis\")"
   ]
  },
  {
   "cell_type": "markdown",
   "id": "80819773-8197-4b66-b700-0d17051e2dce",
   "metadata": {},
   "source": [
    "<h1>Chi Square Test <h/1>"
   ]
  },
  {
   "cell_type": "markdown",
   "id": "a37f920d-2427-4b4a-b485-83b5f1f78a53",
   "metadata": {},
   "source": [
    "<h2> chi square test of indenpendacy<h/2>"
   ]
  },
  {
   "cell_type": "code",
   "execution_count": 4,
   "id": "7bbaa3ae-3c95-4aba-9d9f-593a127264e3",
   "metadata": {},
   "outputs": [
    {
     "name": "stdout",
     "output_type": "stream",
     "text": [
      "11.070497693516355\n"
     ]
    }
   ],
   "source": [
    "from scipy.stats import chi2\n",
    "print(chi2.isf(0.05,5))"
   ]
  },
  {
   "cell_type": "code",
   "execution_count": 5,
   "id": "8040ad4b-0536-4fe6-a536-44e1cbde7b2d",
   "metadata": {},
   "outputs": [],
   "source": [
    "import pandas as pd \n",
    "import scipy.stats as stats\n"
   ]
  },
  {
   "cell_type": "code",
   "execution_count": 6,
   "id": "5ba80c53-2da1-40eb-8471-fb62976617cb",
   "metadata": {},
   "outputs": [],
   "source": [
    "df = pd.read_csv(\"airline_passenger_satisfaction (1).csv\")"
   ]
  },
  {
   "cell_type": "code",
   "execution_count": 8,
   "id": "5930e8a5-b7a2-4c02-80f0-e3d1a0660d72",
   "metadata": {},
   "outputs": [
    {
     "name": "stdout",
     "output_type": "stream",
     "text": [
      "contingency_table\n",
      "Satisfaction   Neutral or Dissatisfied  Satisfied\n",
      "Customer Type                                    \n",
      "First-time                       18080       5700\n",
      "Returning                        55372      50728\n"
     ]
    }
   ],
   "source": [
    "# create a contingency\n",
    "contingency_table = pd.crosstab(df['Customer Type'],df['Satisfaction'])\n",
    "print(\"contingency_table\")\n",
    "print(contingency_table)"
   ]
  },
  {
   "cell_type": "code",
   "execution_count": 9,
   "id": "6f2a98d5-0a61-46af-adc8-e737a415e14b",
   "metadata": {},
   "outputs": [],
   "source": [
    "# run chi square test of indenpendacy\n",
    "chi2,p,dof,ex = stats.chi2_contingency(contingency_table)"
   ]
  },
  {
   "cell_type": "code",
   "execution_count": 10,
   "id": "e63f89e7-2ef4-4fdb-934d-ee6cbfec0056",
   "metadata": {},
   "outputs": [
    {
     "name": "stdout",
     "output_type": "stream",
     "text": [
      "\n",
      " chisquare test fro customer type and satisfaction\n",
      "chi2 statitics: 4493.188803283598\n",
      "p value : 0.0\n",
      " Degree of freedom : 1\n"
     ]
    }
   ],
   "source": [
    "print(\"\\n chisquare test fro customer type and satisfaction\")\n",
    "print(f\"chi2 statitics: {chi2}\")\n",
    "print(f\"p value : {p}\")\n",
    "print(f\" Degree of freedom : {dof}\")\n"
   ]
  },
  {
   "cell_type": "code",
   "execution_count": 11,
   "id": "6438a3fd-1c31-4288-92a7-b42c172360f6",
   "metadata": {},
   "outputs": [
    {
     "name": "stdout",
     "output_type": "stream",
     "text": [
      "Expected frequency table : \n",
      "[[13448.47982753 10331.52017247]\n",
      " [60003.52017247 46096.47982753]]\n"
     ]
    }
   ],
   "source": [
    "# expected frequencies table  : if H0 were  to be true we would except to see this values in the cell  \n",
    "print(\"Expected frequency table : \")\n",
    "print(ex)\n"
   ]
  },
  {
   "cell_type": "code",
   "execution_count": 12,
   "id": "c674464b-b054-43c2-8213-c3d2b8a52ac8",
   "metadata": {},
   "outputs": [
    {
     "name": "stdout",
     "output_type": "stream",
     "text": [
      "there is significant difference associatation between customer type and satisfaction (reject the null hypothisis) \n"
     ]
    }
   ],
   "source": [
    "alpha = 0.05\n",
    "if p < alpha:\n",
    "    print(\"there is significant difference associatation between customer type and satisfaction (reject the null hypothisis) \")\n",
    "else:    \n",
    "    print(\"there is no significant difference associatation between customer type and satisfaction (fail to reject the null hypothisis) \")\n",
    "    \n",
    "\n"
   ]
  },
  {
   "cell_type": "code",
   "execution_count": 15,
   "id": "82db7a4f-f00f-49de-8b99-50acb007a99f",
   "metadata": {},
   "outputs": [],
   "source": [
    "# finding critical value using python\n",
    "from scipy.stats import chi2\n",
    "crit = chi2.isf(alpha,dof)\n"
   ]
  },
  {
   "cell_type": "markdown",
   "id": "360f184b-a1e0-4603-a06e-07de9af8ed65",
   "metadata": {},
   "source": [
    "<h2>Example<h/2>"
   ]
  },
  {
   "cell_type": "code",
   "execution_count": 17,
   "id": "e0db678a-13e1-431c-bb21-cdf3bc33d28e",
   "metadata": {},
   "outputs": [],
   "source": [
    "import pandas as pd \n",
    "from scipy.stats import chi2_contingency"
   ]
  },
  {
   "cell_type": "code",
   "execution_count": 18,
   "id": "93e6db17-cb67-482f-b352-abffbecced30",
   "metadata": {},
   "outputs": [],
   "source": [
    "df=pd.read_csv(\"titanic-tested.csv\")"
   ]
  },
  {
   "cell_type": "code",
   "execution_count": null,
   "id": "01d7e263-1fd0-4e0c-8d57-b23de210ae98",
   "metadata": {},
   "outputs": [],
   "source": [
    "\"\"\"\n",
    "nulll hypothesis (h0): assumes there is no association between the variables we re testing (passenger class and survival))\n",
    "alternative hypothesis (ha) : Assumes there is an association between the variables\n",
    "\"\"\""
   ]
  },
  {
   "cell_type": "code",
   "execution_count": 19,
   "id": "fb5e24ce-d981-4916-9c48-f31f1a325742",
   "metadata": {},
   "outputs": [
    {
     "name": "stdout",
     "output_type": "stream",
     "text": [
      "Survived    0   1\n",
      "Pclass           \n",
      "1          57  50\n",
      "2          63  30\n",
      "3         146  72\n"
     ]
    }
   ],
   "source": [
    "#create a contingency table\n",
    "contingency_table=pd.crosstab(df[\"Pclass\"],df[\"Survived\"])\n",
    "print(contingency_table)"
   ]
  },
  {
   "cell_type": "code",
   "execution_count": 20,
   "id": "2aff6c4a-3bd1-460b-be89-7828ff510f6b",
   "metadata": {},
   "outputs": [],
   "source": [
    "#perform the chi square test \n",
    "chi2_stat,p_value,dof,expected=chi2_contingency(contingency_table)\n"
   ]
  },
  {
   "cell_type": "code",
   "execution_count": 25,
   "id": "2df249de-6cff-4b2d-a345-7e5e275475da",
   "metadata": {},
   "outputs": [
    {
     "name": "stdout",
     "output_type": "stream",
     "text": [
      "chisquare test fro customer type and satisfaction\n",
      "chi2 statitics: 6.693869422819262\n",
      "p value : 0.03519206276590605\n",
      "Degree of freedom : 2\n"
     ]
    }
   ],
   "source": [
    "#print the results\n",
    "print(\"chisquare test fro customer type and satisfaction\")\n",
    "print(f\"chi2 statitics: {chi2_stat}\")\n",
    "print(f\"p value : {p_value}\")\n",
    "print(f\"Degree of freedom : {dof}\")\n"
   ]
  },
  {
   "cell_type": "code",
   "execution_count": 27,
   "id": "f922f979-2958-4438-8426-bda0fd332ae2",
   "metadata": {},
   "outputs": [
    {
     "name": "stdout",
     "output_type": "stream",
     "text": [
      "reject H0 so there is a statistically significant association between passenger class and survival (p<0.05)\n"
     ]
    }
   ],
   "source": [
    "#interpretation \n",
    "if p_value<0.05:\n",
    "    print(\"reject H0 so there is a statistically significant association between passenger class and survival (p<0.05)\")\n",
    "else:\n",
    "    print(\"do not reject H0 so there is no statistically signuficant association between passenger class and survival (p>=0.05)\")\n",
    "          "
   ]
  },
  {
   "cell_type": "code",
   "execution_count": null,
   "id": "c673f92e-033e-403d-aaac-b8326dd90c72",
   "metadata": {},
   "outputs": [],
   "source": []
  },
  {
   "cell_type": "markdown",
   "id": "7b5c80f9-d5eb-4f14-b3fd-38d323147a33",
   "metadata": {},
   "source": [
    "<h2>Assignment<h/2>"
   ]
  },
  {
   "cell_type": "code",
   "execution_count": 32,
   "id": "206aacb5-7b94-41ed-ab9e-b515e625af74",
   "metadata": {},
   "outputs": [
    {
     "name": "stderr",
     "output_type": "stream",
     "text": [
      "C:\\Users\\dbda\\AppData\\Local\\Temp\\ipykernel_15124\\652367067.py:1: DtypeWarning: Columns (23) have mixed types. Specify dtype option on import or set low_memory=False.\n",
      "  df = pd.read_csv(\"Amazon Sale Report.csv\")\n"
     ]
    }
   ],
   "source": [
    "df = pd.read_csv(\"Amazon Sale Report.csv\")"
   ]
  },
  {
   "cell_type": "code",
   "execution_count": null,
   "id": "66fffda8-d174-414d-b6c1-8cf5a0407a36",
   "metadata": {},
   "outputs": [],
   "source": []
  },
  {
   "cell_type": "code",
   "execution_count": 34,
   "id": "76f11e97-d481-4d53-8c58-63565919e3a1",
   "metadata": {},
   "outputs": [
    {
     "data": {
      "text/html": [
       "<div>\n",
       "<style scoped>\n",
       "    .dataframe tbody tr th:only-of-type {\n",
       "        vertical-align: middle;\n",
       "    }\n",
       "\n",
       "    .dataframe tbody tr th {\n",
       "        vertical-align: top;\n",
       "    }\n",
       "\n",
       "    .dataframe thead th {\n",
       "        text-align: right;\n",
       "    }\n",
       "</style>\n",
       "<table border=\"1\" class=\"dataframe\">\n",
       "  <thead>\n",
       "    <tr style=\"text-align: right;\">\n",
       "      <th></th>\n",
       "      <th>index</th>\n",
       "      <th>Order ID</th>\n",
       "      <th>Date</th>\n",
       "      <th>Status</th>\n",
       "      <th>Fulfilment</th>\n",
       "      <th>Sales Channel</th>\n",
       "      <th>ship-service-level</th>\n",
       "      <th>Style</th>\n",
       "      <th>SKU</th>\n",
       "      <th>Category</th>\n",
       "      <th>...</th>\n",
       "      <th>currency</th>\n",
       "      <th>Amount</th>\n",
       "      <th>ship-city</th>\n",
       "      <th>ship-state</th>\n",
       "      <th>ship-postal-code</th>\n",
       "      <th>ship-country</th>\n",
       "      <th>promotion-ids</th>\n",
       "      <th>B2B</th>\n",
       "      <th>fulfilled-by</th>\n",
       "      <th>Unnamed: 22</th>\n",
       "    </tr>\n",
       "  </thead>\n",
       "  <tbody>\n",
       "    <tr>\n",
       "      <th>0</th>\n",
       "      <td>0</td>\n",
       "      <td>405-8078784-5731545</td>\n",
       "      <td>04-30-22</td>\n",
       "      <td>Cancelled</td>\n",
       "      <td>Merchant</td>\n",
       "      <td>Amazon.in</td>\n",
       "      <td>Standard</td>\n",
       "      <td>SET389</td>\n",
       "      <td>SET389-KR-NP-S</td>\n",
       "      <td>Set</td>\n",
       "      <td>...</td>\n",
       "      <td>INR</td>\n",
       "      <td>647.62</td>\n",
       "      <td>MUMBAI</td>\n",
       "      <td>MAHARASHTRA</td>\n",
       "      <td>400081.0</td>\n",
       "      <td>IN</td>\n",
       "      <td>NaN</td>\n",
       "      <td>False</td>\n",
       "      <td>Easy Ship</td>\n",
       "      <td>NaN</td>\n",
       "    </tr>\n",
       "    <tr>\n",
       "      <th>1</th>\n",
       "      <td>1</td>\n",
       "      <td>171-9198151-1101146</td>\n",
       "      <td>04-30-22</td>\n",
       "      <td>Shipped - Delivered to Buyer</td>\n",
       "      <td>Merchant</td>\n",
       "      <td>Amazon.in</td>\n",
       "      <td>Standard</td>\n",
       "      <td>JNE3781</td>\n",
       "      <td>JNE3781-KR-XXXL</td>\n",
       "      <td>kurta</td>\n",
       "      <td>...</td>\n",
       "      <td>INR</td>\n",
       "      <td>406.00</td>\n",
       "      <td>BENGALURU</td>\n",
       "      <td>KARNATAKA</td>\n",
       "      <td>560085.0</td>\n",
       "      <td>IN</td>\n",
       "      <td>Amazon PLCC Free-Financing Universal Merchant ...</td>\n",
       "      <td>False</td>\n",
       "      <td>Easy Ship</td>\n",
       "      <td>NaN</td>\n",
       "    </tr>\n",
       "    <tr>\n",
       "      <th>2</th>\n",
       "      <td>2</td>\n",
       "      <td>404-0687676-7273146</td>\n",
       "      <td>04-30-22</td>\n",
       "      <td>Shipped</td>\n",
       "      <td>Amazon</td>\n",
       "      <td>Amazon.in</td>\n",
       "      <td>Expedited</td>\n",
       "      <td>JNE3371</td>\n",
       "      <td>JNE3371-KR-XL</td>\n",
       "      <td>kurta</td>\n",
       "      <td>...</td>\n",
       "      <td>INR</td>\n",
       "      <td>329.00</td>\n",
       "      <td>NAVI MUMBAI</td>\n",
       "      <td>MAHARASHTRA</td>\n",
       "      <td>410210.0</td>\n",
       "      <td>IN</td>\n",
       "      <td>IN Core Free Shipping 2015/04/08 23-48-5-108</td>\n",
       "      <td>True</td>\n",
       "      <td>NaN</td>\n",
       "      <td>NaN</td>\n",
       "    </tr>\n",
       "    <tr>\n",
       "      <th>3</th>\n",
       "      <td>3</td>\n",
       "      <td>403-9615377-8133951</td>\n",
       "      <td>04-30-22</td>\n",
       "      <td>Cancelled</td>\n",
       "      <td>Merchant</td>\n",
       "      <td>Amazon.in</td>\n",
       "      <td>Standard</td>\n",
       "      <td>J0341</td>\n",
       "      <td>J0341-DR-L</td>\n",
       "      <td>Western Dress</td>\n",
       "      <td>...</td>\n",
       "      <td>INR</td>\n",
       "      <td>753.33</td>\n",
       "      <td>PUDUCHERRY</td>\n",
       "      <td>PUDUCHERRY</td>\n",
       "      <td>605008.0</td>\n",
       "      <td>IN</td>\n",
       "      <td>NaN</td>\n",
       "      <td>False</td>\n",
       "      <td>Easy Ship</td>\n",
       "      <td>NaN</td>\n",
       "    </tr>\n",
       "    <tr>\n",
       "      <th>4</th>\n",
       "      <td>4</td>\n",
       "      <td>407-1069790-7240320</td>\n",
       "      <td>04-30-22</td>\n",
       "      <td>Shipped</td>\n",
       "      <td>Amazon</td>\n",
       "      <td>Amazon.in</td>\n",
       "      <td>Expedited</td>\n",
       "      <td>JNE3671</td>\n",
       "      <td>JNE3671-TU-XXXL</td>\n",
       "      <td>Top</td>\n",
       "      <td>...</td>\n",
       "      <td>INR</td>\n",
       "      <td>574.00</td>\n",
       "      <td>CHENNAI</td>\n",
       "      <td>TAMIL NADU</td>\n",
       "      <td>600073.0</td>\n",
       "      <td>IN</td>\n",
       "      <td>NaN</td>\n",
       "      <td>False</td>\n",
       "      <td>NaN</td>\n",
       "      <td>NaN</td>\n",
       "    </tr>\n",
       "  </tbody>\n",
       "</table>\n",
       "<p>5 rows × 24 columns</p>\n",
       "</div>"
      ],
      "text/plain": [
       "   index             Order ID      Date                        Status  \\\n",
       "0      0  405-8078784-5731545  04-30-22                     Cancelled   \n",
       "1      1  171-9198151-1101146  04-30-22  Shipped - Delivered to Buyer   \n",
       "2      2  404-0687676-7273146  04-30-22                       Shipped   \n",
       "3      3  403-9615377-8133951  04-30-22                     Cancelled   \n",
       "4      4  407-1069790-7240320  04-30-22                       Shipped   \n",
       "\n",
       "  Fulfilment Sales Channel  ship-service-level    Style              SKU  \\\n",
       "0   Merchant      Amazon.in           Standard   SET389   SET389-KR-NP-S   \n",
       "1   Merchant      Amazon.in           Standard  JNE3781  JNE3781-KR-XXXL   \n",
       "2     Amazon      Amazon.in          Expedited  JNE3371    JNE3371-KR-XL   \n",
       "3   Merchant      Amazon.in           Standard    J0341       J0341-DR-L   \n",
       "4     Amazon      Amazon.in          Expedited  JNE3671  JNE3671-TU-XXXL   \n",
       "\n",
       "        Category  ... currency  Amount    ship-city   ship-state  \\\n",
       "0            Set  ...      INR  647.62       MUMBAI  MAHARASHTRA   \n",
       "1          kurta  ...      INR  406.00    BENGALURU    KARNATAKA   \n",
       "2          kurta  ...      INR  329.00  NAVI MUMBAI  MAHARASHTRA   \n",
       "3  Western Dress  ...      INR  753.33   PUDUCHERRY   PUDUCHERRY   \n",
       "4            Top  ...      INR  574.00      CHENNAI   TAMIL NADU   \n",
       "\n",
       "  ship-postal-code  ship-country  \\\n",
       "0         400081.0            IN   \n",
       "1         560085.0            IN   \n",
       "2         410210.0            IN   \n",
       "3         605008.0            IN   \n",
       "4         600073.0            IN   \n",
       "\n",
       "                                       promotion-ids    B2B  fulfilled-by  \\\n",
       "0                                                NaN  False     Easy Ship   \n",
       "1  Amazon PLCC Free-Financing Universal Merchant ...  False     Easy Ship   \n",
       "2       IN Core Free Shipping 2015/04/08 23-48-5-108   True           NaN   \n",
       "3                                                NaN  False     Easy Ship   \n",
       "4                                                NaN  False           NaN   \n",
       "\n",
       "  Unnamed: 22  \n",
       "0         NaN  \n",
       "1         NaN  \n",
       "2         NaN  \n",
       "3         NaN  \n",
       "4         NaN  \n",
       "\n",
       "[5 rows x 24 columns]"
      ]
     },
     "execution_count": 34,
     "metadata": {},
     "output_type": "execute_result"
    }
   ],
   "source": [
    "df.head()"
   ]
  },
  {
   "cell_type": "code",
   "execution_count": 39,
   "id": "3fbfeb5d-93c4-41de-9d3b-776b0872d415",
   "metadata": {},
   "outputs": [],
   "source": [
    "df_new = df[(df[\"Status\"]==\"Cancelled\")|(df[\"Status\"]==\"Pending\")]\n",
    "\n"
   ]
  },
  {
   "cell_type": "code",
   "execution_count": 41,
   "id": "53ec57d2-297b-4e01-adca-04504232aa79",
   "metadata": {},
   "outputs": [
    {
     "name": "stdout",
     "output_type": "stream",
     "text": [
      "Fulfilment  Amazon  Merchant\n",
      "Status                      \n",
      "Cancelled    11471      6861\n",
      "Pending        415       243\n"
     ]
    }
   ],
   "source": [
    "#create a contingency table\n",
    "contingency_table = pd.crosstab(df_new[\"Status\"],df_new[\"Fulfilment\"])\n",
    "print(contingency_table)\n",
    "\n"
   ]
  },
  {
   "cell_type": "code",
   "execution_count": 44,
   "id": "e34738b9-ab9f-459f-a41b-b1f759ced868",
   "metadata": {},
   "outputs": [],
   "source": [
    "#perform the chi square test \n",
    "\n",
    "chi2_stats,p,dof,expected = chi2_contingency(contingency_table)\n"
   ]
  },
  {
   "cell_type": "code",
   "execution_count": 49,
   "id": "9ce8b6f2-7812-481f-8e77-d4e6bd854ad2",
   "metadata": {},
   "outputs": [
    {
     "name": "stdout",
     "output_type": "stream",
     "text": [
      "chisquare test for customer type and satisfaction\n",
      "chi2 statitics: 0.04729799287402296\n",
      "p value : 0.8278334990054204\n",
      "Degree of freedom : 1\n"
     ]
    }
   ],
   "source": [
    "#print the results\n",
    "print(\"chisquare test for customer type and satisfaction\")\n",
    "print(f\"chi2 statitics: {chi2_stats}\")\n",
    "print(f\"p value : {p}\")\n",
    "print(f\"Degree of freedom : {dof}\")\n"
   ]
  },
  {
   "cell_type": "code",
   "execution_count": 50,
   "id": "ec267990-15f6-455c-a74a-dc99dcac07f4",
   "metadata": {},
   "outputs": [
    {
     "name": "stdout",
     "output_type": "stream",
     "text": [
      "do not reject H0 so there is no statistically signuficant association between passenger class and survival (p>=0.05)\n"
     ]
    }
   ],
   "source": [
    "#interpretation \n",
    "if p<0.05:\n",
    "    print(\"reject H0 so there is a statistically significant association between passenger class and survival (p<0.05)\")\n",
    "else:\n",
    "    print(\"do not reject H0 so there is no statistically signuficant association between passenger class and survival (p>=0.05)\")\n",
    "     "
   ]
  },
  {
   "cell_type": "markdown",
   "id": "6392bf37-f90f-40ba-87f2-645a8a19eb46",
   "metadata": {},
   "source": [
    "Correlation\n"
   ]
  },
  {
   "cell_type": "markdown",
   "id": "b2a52981-b6b5-4aa2-94d2-eff786545412",
   "metadata": {},
   "source": [
    "<h2>Correaltion<h/2"
   ]
  },
  {
   "cell_type": "code",
   "execution_count": null,
   "id": "f7979931-b066-4921-8e71-1ec2c93c0a63",
   "metadata": {},
   "outputs": [],
   "source": []
  },
  {
   "cell_type": "code",
   "execution_count": 53,
   "id": "573f36f8-f9e1-43dd-81c7-e794921e887a",
   "metadata": {},
   "outputs": [],
   "source": [
    "import pandas as pd \n",
    "import matplotlib.pyplot as plt\n"
   ]
  },
  {
   "cell_type": "code",
   "execution_count": 54,
   "id": "424d93d7-325a-40d7-974e-df6956b0077f",
   "metadata": {},
   "outputs": [],
   "source": [
    "df = pd.read_csv(\"loan.csv\")"
   ]
  },
  {
   "cell_type": "code",
   "execution_count": 59,
   "id": "8fbbab8d-a4f7-433a-ac6a-83c0a1d0ae6a",
   "metadata": {},
   "outputs": [
    {
     "name": "stdout",
     "output_type": "stream",
     "text": [
      "Correlation coeficient : 0.4762180840211062\n"
     ]
    }
   ],
   "source": [
    "# calculate corelation corelation\n",
    "correlation_coeficient = df['age'].corr(df['income'])\n",
    "\n",
    "print(f'Correlation coeficient : {correlation_coeficient}')"
   ]
  },
  {
   "cell_type": "code",
   "execution_count": 75,
   "id": "e2fdb39a-9db2-4632-845b-75cc937dbdca",
   "metadata": {},
   "outputs": [
    {
     "name": "stdout",
     "output_type": "stream",
     "text": [
      "0      135\n",
      "1        4\n",
      "2       15\n",
      "3       79\n",
      "4        4\n",
      "      ... \n",
      "845     -2\n",
      "846     84\n",
      "847    -10\n",
      "848    -11\n",
      "849      4\n",
      "Length: 850, dtype: int64\n"
     ]
    },
    {
     "data": {
      "image/png": "[encoded data removed]",
      "text/plain": [
       "<Figure size 640x480 with 1 Axes>"
      ]
     },
     "metadata": {},
     "output_type": "display_data"
    }
   ],
   "source": [
    "# plot a scatter plot to visulization the data \n",
    "plt.scatter(df['age'],df['income']) \n",
    "plt.xlabel(\"Age\")\n",
    "plt.ylabel(\"Income\")\n",
    "plt.title(f\"Scatter plot (correlation : {correlation_coeficient : .2f} \")\n",
    "\n",
    "\n",
    "# indentify potential outlier (eg values with residual greater than 2 times the standard deviation )\n",
    "residuals = df['income'] - df['age']\n",
    "print(residuals)\n",
    "std_deviation = residuals.std()\n",
    "outliers = df[abs(residuals)  > 2* std_deviation ]\n",
    "# \n",
    "\n",
    "\n",
    "\n",
    "#Hightlight potential outliers on the scatter ploty \n",
    "plt.scatter(outliers['age'],outliers['income'],color = 'red',label = 'outliers')\n",
    "plt.legend()\n",
    "plt.show()\n"
   ]
  },
  {
   "cell_type": "markdown",
   "id": "069718dd-32da-4535-9697-d89889da9449",
   "metadata": {},
   "source": [
    "Example"
   ]
  },
  {
   "cell_type": "code",
   "execution_count": 77,
   "id": "c0340681-94a3-4805-8866-55cbf92e4812",
   "metadata": {},
   "outputs": [],
   "source": [
    "import pandas as pd \n",
    "import matplotlib.pyplot as plt\n"
   ]
  },
  {
   "cell_type": "code",
   "execution_count": 91,
   "id": "4eef896b-b76a-452f-91e2-508fb37e5894",
   "metadata": {},
   "outputs": [
    {
     "name": "stdout",
     "output_type": "stream",
     "text": [
      "Correletion Coefcient :0.7603279373397435\n"
     ]
    }
   ],
   "source": [
    "df = pd.read_csv(\"happyscore_income.csv\")\n",
    "# Clculation of correlation coeficient\n",
    "correletion_coeficient  = df['median_income'].corr(df['happyScore'])\n",
    "print(f'Correletion Coefcient :{correletion_coeficient}')"
   ]
  },
  {
   "cell_type": "code",
   "execution_count": 92,
   "id": "8479604c-4355-44a2-afc1-8d228622e8f6",
   "metadata": {},
   "outputs": [
    {
     "name": "stdout",
     "output_type": "stream",
     "text": [
      "0       1727.156667\n",
      "1       1040.207000\n",
      "2       5102.826000\n",
      "3      16872.420000\n",
      "4      15838.776000\n",
      "           ...     \n",
      "106     5262.741667\n",
      "107     1638.220000\n",
      "108     1501.758000\n",
      "109      504.931000\n",
      "110     1225.990000\n",
      "Length: 111, dtype: float64\n"
     ]
    },
    {
     "data": {
      "image/png": "[encoded data removed]",
      "text/plain": [
       "<Figure size 640x480 with 1 Axes>"
      ]
     },
     "metadata": {},
     "output_type": "display_data"
    }
   ],
   "source": [
    "# plot scatter plot to visulization the data \n",
    "plt.scatter (df[\"median_income\"],df['happyScore'])\n",
    "plt.xlabel(\"median income\")\n",
    "plt.ylabel(\"happoness score\")\n",
    "plt.title(f\"scatter plot (correlation:{correlation_coeficient:.2f})\")\n",
    "#Identify potential outliers (eg. values with residuals greater than  2 times the standard deviation )\n",
    "residuals=df[\"median_income\"]-df['happyScore']\n",
    "print(residuals)"
   ]
  },
  {
   "cell_type": "code",
   "execution_count": 90,
   "id": "a0fa210d-bfae-4d45-a6eb-c5a2dfff3a57",
   "metadata": {},
   "outputs": [
    {
     "name": "stdout",
     "output_type": "stream",
     "text": [
      "Correletion Coefcient :0.99560521640439\n",
      "0       1727.156667\n",
      "1       1040.207000\n",
      "2       5102.826000\n",
      "3      16872.420000\n",
      "4      15838.776000\n",
      "           ...     \n",
      "106     5262.741667\n",
      "107     1638.220000\n",
      "108     1501.758000\n",
      "109      504.931000\n",
      "110     1225.990000\n",
      "Length: 111, dtype: float64\n"
     ]
    },
    {
     "data": {
      "image/png": "[encoded data removed]",
      "text/plain": [
       "<Figure size 640x480 with 1 Axes>"
      ]
     },
     "metadata": {},
     "output_type": "display_data"
    }
   ],
   "source": [
    "\n",
    "correletion_coeficient  = df['avg_income'].corr(df['median_income'])\n",
    "print(f'Correletion Coefcient :{correletion_coeficient}')\n",
    "\n",
    "\n",
    "\n",
    "# plot scatter plot to visulization the data \n",
    "plt.scatter (df[\"avg_income\"],df['median_income'])\n",
    "plt.xlabel(\"median income\")\n",
    "plt.ylabel(\"happoness score\")\n",
    "plt.title(f\"scatter plot (correlation:{correlation_coeficient:.2f})\")\n",
    "#Identify potential outliers (eg. values with residuals greater than  2 times the standard deviation )\n",
    "residuals=df[\"median_income\"]-df['happyScore']\n",
    "print(residuals)"
   ]
  },
  {
   "cell_type": "markdown",
   "id": "40baf500-a526-44d8-a4f7-282fe8b52a89",
   "metadata": {},
   "source": [
    "<h1>assignment <h/1>"
   ]
  },
  {
   "cell_type": "code",
   "execution_count": 101,
   "id": "f5407aa7-da92-497d-92af-0d57db32bc1d",
   "metadata": {},
   "outputs": [],
   "source": [
    "df1 = pd.read_csv(\"marathon_results_2015.csv\")\n",
    "df2 = pd.read_csv(\"marathon_results_2016.csv\")\n",
    "df3 = pd.read_csv(\"marathon_results_2017.csv\")"
   ]
  },
  {
   "cell_type": "code",
   "execution_count": 102,
   "id": "30ff09a6-b1ef-4ff9-9d8e-3104544e5f8d",
   "metadata": {},
   "outputs": [],
   "source": [
    "df =pd.concat([df1,df2,df3])"
   ]
  },
  {
   "cell_type": "code",
   "execution_count": 103,
   "id": "283f3afa-d216-42d8-95d0-3ec24e95353c",
   "metadata": {},
   "outputs": [
    {
     "data": {
      "text/html": [
       "<div>\n",
       "<style scoped>\n",
       "    .dataframe tbody tr th:only-of-type {\n",
       "        vertical-align: middle;\n",
       "    }\n",
       "\n",
       "    .dataframe tbody tr th {\n",
       "        vertical-align: top;\n",
       "    }\n",
       "\n",
       "    .dataframe thead th {\n",
       "        text-align: right;\n",
       "    }\n",
       "</style>\n",
       "<table border=\"1\" class=\"dataframe\">\n",
       "  <thead>\n",
       "    <tr style=\"text-align: right;\">\n",
       "      <th></th>\n",
       "      <th>Unnamed: 0</th>\n",
       "      <th>Bib</th>\n",
       "      <th>Name</th>\n",
       "      <th>Age</th>\n",
       "      <th>M/F</th>\n",
       "      <th>City</th>\n",
       "      <th>State</th>\n",
       "      <th>Country</th>\n",
       "      <th>Citizen</th>\n",
       "      <th>Unnamed: 9</th>\n",
       "      <th>...</th>\n",
       "      <th>30K</th>\n",
       "      <th>35K</th>\n",
       "      <th>40K</th>\n",
       "      <th>Pace</th>\n",
       "      <th>Proj Time</th>\n",
       "      <th>Official Time</th>\n",
       "      <th>Overall</th>\n",
       "      <th>Gender</th>\n",
       "      <th>Division</th>\n",
       "      <th>Unnamed: 8</th>\n",
       "    </tr>\n",
       "  </thead>\n",
       "  <tbody>\n",
       "    <tr>\n",
       "      <th>0</th>\n",
       "      <td>0.0</td>\n",
       "      <td>3</td>\n",
       "      <td>Desisa, Lelisa</td>\n",
       "      <td>25</td>\n",
       "      <td>M</td>\n",
       "      <td>Ambo</td>\n",
       "      <td>NaN</td>\n",
       "      <td>ETH</td>\n",
       "      <td>NaN</td>\n",
       "      <td>NaN</td>\n",
       "      <td>...</td>\n",
       "      <td>1:32:00</td>\n",
       "      <td>1:47:59</td>\n",
       "      <td>2:02:39</td>\n",
       "      <td>0:04:56</td>\n",
       "      <td>-</td>\n",
       "      <td>2:09:17</td>\n",
       "      <td>1</td>\n",
       "      <td>1</td>\n",
       "      <td>1</td>\n",
       "      <td>NaN</td>\n",
       "    </tr>\n",
       "    <tr>\n",
       "      <th>1</th>\n",
       "      <td>1.0</td>\n",
       "      <td>4</td>\n",
       "      <td>Tsegay, Yemane Adhane</td>\n",
       "      <td>30</td>\n",
       "      <td>M</td>\n",
       "      <td>Addis Ababa</td>\n",
       "      <td>NaN</td>\n",
       "      <td>ETH</td>\n",
       "      <td>NaN</td>\n",
       "      <td>NaN</td>\n",
       "      <td>...</td>\n",
       "      <td>1:31:59</td>\n",
       "      <td>1:47:59</td>\n",
       "      <td>2:02:42</td>\n",
       "      <td>0:04:58</td>\n",
       "      <td>-</td>\n",
       "      <td>2:09:48</td>\n",
       "      <td>2</td>\n",
       "      <td>2</td>\n",
       "      <td>2</td>\n",
       "      <td>NaN</td>\n",
       "    </tr>\n",
       "    <tr>\n",
       "      <th>2</th>\n",
       "      <td>2.0</td>\n",
       "      <td>8</td>\n",
       "      <td>Chebet, Wilson</td>\n",
       "      <td>29</td>\n",
       "      <td>M</td>\n",
       "      <td>Marakwet</td>\n",
       "      <td>NaN</td>\n",
       "      <td>KEN</td>\n",
       "      <td>NaN</td>\n",
       "      <td>NaN</td>\n",
       "      <td>...</td>\n",
       "      <td>1:32:00</td>\n",
       "      <td>1:47:59</td>\n",
       "      <td>2:03:01</td>\n",
       "      <td>0:04:59</td>\n",
       "      <td>-</td>\n",
       "      <td>2:10:22</td>\n",
       "      <td>3</td>\n",
       "      <td>3</td>\n",
       "      <td>3</td>\n",
       "      <td>NaN</td>\n",
       "    </tr>\n",
       "    <tr>\n",
       "      <th>3</th>\n",
       "      <td>3.0</td>\n",
       "      <td>11</td>\n",
       "      <td>Kipyego, Bernard</td>\n",
       "      <td>28</td>\n",
       "      <td>M</td>\n",
       "      <td>Eldoret</td>\n",
       "      <td>NaN</td>\n",
       "      <td>KEN</td>\n",
       "      <td>NaN</td>\n",
       "      <td>NaN</td>\n",
       "      <td>...</td>\n",
       "      <td>1:32:00</td>\n",
       "      <td>1:48:03</td>\n",
       "      <td>2:03:47</td>\n",
       "      <td>0:05:00</td>\n",
       "      <td>-</td>\n",
       "      <td>2:10:47</td>\n",
       "      <td>4</td>\n",
       "      <td>4</td>\n",
       "      <td>4</td>\n",
       "      <td>NaN</td>\n",
       "    </tr>\n",
       "    <tr>\n",
       "      <th>4</th>\n",
       "      <td>4.0</td>\n",
       "      <td>10</td>\n",
       "      <td>Korir, Wesley</td>\n",
       "      <td>32</td>\n",
       "      <td>M</td>\n",
       "      <td>Kitale</td>\n",
       "      <td>NaN</td>\n",
       "      <td>KEN</td>\n",
       "      <td>NaN</td>\n",
       "      <td>NaN</td>\n",
       "      <td>...</td>\n",
       "      <td>1:32:00</td>\n",
       "      <td>1:47:59</td>\n",
       "      <td>2:03:27</td>\n",
       "      <td>0:05:00</td>\n",
       "      <td>-</td>\n",
       "      <td>2:10:49</td>\n",
       "      <td>5</td>\n",
       "      <td>5</td>\n",
       "      <td>5</td>\n",
       "      <td>NaN</td>\n",
       "    </tr>\n",
       "    <tr>\n",
       "      <th>5</th>\n",
       "      <td>5.0</td>\n",
       "      <td>9</td>\n",
       "      <td>Chepkwony, Frankline</td>\n",
       "      <td>30</td>\n",
       "      <td>M</td>\n",
       "      <td>Koibatek</td>\n",
       "      <td>NaN</td>\n",
       "      <td>KEN</td>\n",
       "      <td>NaN</td>\n",
       "      <td>NaN</td>\n",
       "      <td>...</td>\n",
       "      <td>1:32:00</td>\n",
       "      <td>1:47:59</td>\n",
       "      <td>2:03:18</td>\n",
       "      <td>0:05:00</td>\n",
       "      <td>-</td>\n",
       "      <td>2:10:52</td>\n",
       "      <td>6</td>\n",
       "      <td>6</td>\n",
       "      <td>6</td>\n",
       "      <td>NaN</td>\n",
       "    </tr>\n",
       "    <tr>\n",
       "      <th>6</th>\n",
       "      <td>6.0</td>\n",
       "      <td>14</td>\n",
       "      <td>Ritzenhein, Dathan</td>\n",
       "      <td>32</td>\n",
       "      <td>M</td>\n",
       "      <td>Rockford</td>\n",
       "      <td>MI</td>\n",
       "      <td>USA</td>\n",
       "      <td>NaN</td>\n",
       "      <td>NaN</td>\n",
       "      <td>...</td>\n",
       "      <td>1:31:59</td>\n",
       "      <td>1:48:06</td>\n",
       "      <td>2:04:05</td>\n",
       "      <td>0:05:01</td>\n",
       "      <td>-</td>\n",
       "      <td>2:11:20</td>\n",
       "      <td>7</td>\n",
       "      <td>7</td>\n",
       "      <td>7</td>\n",
       "      <td>NaN</td>\n",
       "    </tr>\n",
       "    <tr>\n",
       "      <th>7</th>\n",
       "      <td>7.0</td>\n",
       "      <td>1</td>\n",
       "      <td>Keflezighi, Meb</td>\n",
       "      <td>39</td>\n",
       "      <td>M</td>\n",
       "      <td>San Diego</td>\n",
       "      <td>CA</td>\n",
       "      <td>USA</td>\n",
       "      <td>NaN</td>\n",
       "      <td>NaN</td>\n",
       "      <td>...</td>\n",
       "      <td>1:31:59</td>\n",
       "      <td>1:47:59</td>\n",
       "      <td>2:04:58</td>\n",
       "      <td>0:05:04</td>\n",
       "      <td>-</td>\n",
       "      <td>2:12:42</td>\n",
       "      <td>8</td>\n",
       "      <td>8</td>\n",
       "      <td>8</td>\n",
       "      <td>NaN</td>\n",
       "    </tr>\n",
       "    <tr>\n",
       "      <th>8</th>\n",
       "      <td>8.0</td>\n",
       "      <td>5</td>\n",
       "      <td>Tola, Tadese</td>\n",
       "      <td>27</td>\n",
       "      <td>M</td>\n",
       "      <td>Addis Ababa</td>\n",
       "      <td>NaN</td>\n",
       "      <td>ETH</td>\n",
       "      <td>NaN</td>\n",
       "      <td>NaN</td>\n",
       "      <td>...</td>\n",
       "      <td>1:32:00</td>\n",
       "      <td>1:48:00</td>\n",
       "      <td>2:04:39</td>\n",
       "      <td>0:05:06</td>\n",
       "      <td>-</td>\n",
       "      <td>2:13:35</td>\n",
       "      <td>9</td>\n",
       "      <td>9</td>\n",
       "      <td>9</td>\n",
       "      <td>NaN</td>\n",
       "    </tr>\n",
       "    <tr>\n",
       "      <th>9</th>\n",
       "      <td>9.0</td>\n",
       "      <td>16</td>\n",
       "      <td>Shafar, Vitaliy</td>\n",
       "      <td>33</td>\n",
       "      <td>M</td>\n",
       "      <td>Lutsk</td>\n",
       "      <td>NaN</td>\n",
       "      <td>UKR</td>\n",
       "      <td>NaN</td>\n",
       "      <td>NaN</td>\n",
       "      <td>...</td>\n",
       "      <td>1:33:11</td>\n",
       "      <td>1:49:43</td>\n",
       "      <td>2:06:16</td>\n",
       "      <td>0:05:07</td>\n",
       "      <td>-</td>\n",
       "      <td>2:13:52</td>\n",
       "      <td>10</td>\n",
       "      <td>10</td>\n",
       "      <td>10</td>\n",
       "      <td>NaN</td>\n",
       "    </tr>\n",
       "  </tbody>\n",
       "</table>\n",
       "<p>10 rows × 26 columns</p>\n",
       "</div>"
      ],
      "text/plain": [
       "   Unnamed: 0 Bib                   Name  Age M/F         City State Country  \\\n",
       "0         0.0   3         Desisa, Lelisa   25   M         Ambo   NaN     ETH   \n",
       "1         1.0   4  Tsegay, Yemane Adhane   30   M  Addis Ababa   NaN     ETH   \n",
       "2         2.0   8         Chebet, Wilson   29   M     Marakwet   NaN     KEN   \n",
       "3         3.0  11       Kipyego, Bernard   28   M      Eldoret   NaN     KEN   \n",
       "4         4.0  10          Korir, Wesley   32   M       Kitale   NaN     KEN   \n",
       "5         5.0   9   Chepkwony, Frankline   30   M     Koibatek   NaN     KEN   \n",
       "6         6.0  14     Ritzenhein, Dathan   32   M     Rockford    MI     USA   \n",
       "7         7.0   1        Keflezighi, Meb   39   M    San Diego    CA     USA   \n",
       "8         8.0   5           Tola, Tadese   27   M  Addis Ababa   NaN     ETH   \n",
       "9         9.0  16        Shafar, Vitaliy   33   M        Lutsk   NaN     UKR   \n",
       "\n",
       "  Citizen Unnamed: 9  ...      30K      35K      40K     Pace Proj Time  \\\n",
       "0     NaN        NaN  ...  1:32:00  1:47:59  2:02:39  0:04:56         -   \n",
       "1     NaN        NaN  ...  1:31:59  1:47:59  2:02:42  0:04:58         -   \n",
       "2     NaN        NaN  ...  1:32:00  1:47:59  2:03:01  0:04:59         -   \n",
       "3     NaN        NaN  ...  1:32:00  1:48:03  2:03:47  0:05:00         -   \n",
       "4     NaN        NaN  ...  1:32:00  1:47:59  2:03:27  0:05:00         -   \n",
       "5     NaN        NaN  ...  1:32:00  1:47:59  2:03:18  0:05:00         -   \n",
       "6     NaN        NaN  ...  1:31:59  1:48:06  2:04:05  0:05:01         -   \n",
       "7     NaN        NaN  ...  1:31:59  1:47:59  2:04:58  0:05:04         -   \n",
       "8     NaN        NaN  ...  1:32:00  1:48:00  2:04:39  0:05:06         -   \n",
       "9     NaN        NaN  ...  1:33:11  1:49:43  2:06:16  0:05:07         -   \n",
       "\n",
       "  Official Time Overall Gender Division Unnamed: 8  \n",
       "0       2:09:17       1      1        1        NaN  \n",
       "1       2:09:48       2      2        2        NaN  \n",
       "2       2:10:22       3      3        3        NaN  \n",
       "3       2:10:47       4      4        4        NaN  \n",
       "4       2:10:49       5      5        5        NaN  \n",
       "5       2:10:52       6      6        6        NaN  \n",
       "6       2:11:20       7      7        7        NaN  \n",
       "7       2:12:42       8      8        8        NaN  \n",
       "8       2:13:35       9      9        9        NaN  \n",
       "9       2:13:52      10     10       10        NaN  \n",
       "\n",
       "[10 rows x 26 columns]"
      ]
     },
     "execution_count": 103,
     "metadata": {},
     "output_type": "execute_result"
    }
   ],
   "source": [
    "df.head(10)"
   ]
  },
  {
   "cell_type": "code",
   "execution_count": 109,
   "id": "acd25e08-a5ad-4d49-84b8-984e4048320c",
   "metadata": {},
   "outputs": [],
   "source": [
    "# split the 'official time ' columns into hours ,minutes and seconds\n",
    "df[['Hours','Minutes','Seconds']] =df['Official Time'].str.split(':',expand = True)\n",
    "# convert hours, minutes and seconds columns to integers\n",
    "df['Hours'] = df['Hours'].astype(int)\n",
    "df['Minutes'] = df['Minutes'].astype(int)\n",
    "df['Seconds'] = df['Seconds'].astype(int)\n",
    "\n",
    "df['finish_time_in_minutes'] = (df.Hours * 60) + (df.Minutes) + (df.Seconds/60)\n",
    "\n",
    "\n",
    "df[['pHours','pMinutes','pSeconds']] =df['Pace'].str.split(':',expand = True)\n",
    "df['pHours'] = df['pHours'].astype(int)\n",
    "df['pMinutes'] = df['pMinutes'].astype(int)\n",
    "df['pSeconds'] = df['pSeconds'].astype(int)\n",
    "df['pace_in_minute'] = (df.pHours * 60) + (df.pMinutes) +(df.pSeconds/60)"
   ]
  },
  {
   "cell_type": "code",
   "execution_count": 110,
   "id": "f8694a13-3d27-4a97-a4c3-affb54f66bd4",
   "metadata": {},
   "outputs": [
    {
     "data": {
      "text/html": [
       "<div>\n",
       "<style scoped>\n",
       "    .dataframe tbody tr th:only-of-type {\n",
       "        vertical-align: middle;\n",
       "    }\n",
       "\n",
       "    .dataframe tbody tr th {\n",
       "        vertical-align: top;\n",
       "    }\n",
       "\n",
       "    .dataframe thead th {\n",
       "        text-align: right;\n",
       "    }\n",
       "</style>\n",
       "<table border=\"1\" class=\"dataframe\">\n",
       "  <thead>\n",
       "    <tr style=\"text-align: right;\">\n",
       "      <th></th>\n",
       "      <th>Unnamed: 0</th>\n",
       "      <th>Bib</th>\n",
       "      <th>Name</th>\n",
       "      <th>Age</th>\n",
       "      <th>M/F</th>\n",
       "      <th>City</th>\n",
       "      <th>State</th>\n",
       "      <th>Country</th>\n",
       "      <th>Citizen</th>\n",
       "      <th>Unnamed: 9</th>\n",
       "      <th>...</th>\n",
       "      <th>Unnamed: 8</th>\n",
       "      <th>Hours</th>\n",
       "      <th>Minutes</th>\n",
       "      <th>Seconds</th>\n",
       "      <th>finish_time_in_minutes</th>\n",
       "      <th>pHours</th>\n",
       "      <th>pMinutes</th>\n",
       "      <th>pSeconds</th>\n",
       "      <th>peace_in_minute</th>\n",
       "      <th>pace_in_minute</th>\n",
       "    </tr>\n",
       "  </thead>\n",
       "  <tbody>\n",
       "    <tr>\n",
       "      <th>0</th>\n",
       "      <td>0.0</td>\n",
       "      <td>3</td>\n",
       "      <td>Desisa, Lelisa</td>\n",
       "      <td>25</td>\n",
       "      <td>M</td>\n",
       "      <td>Ambo</td>\n",
       "      <td>NaN</td>\n",
       "      <td>ETH</td>\n",
       "      <td>NaN</td>\n",
       "      <td>NaN</td>\n",
       "      <td>...</td>\n",
       "      <td>NaN</td>\n",
       "      <td>2</td>\n",
       "      <td>9</td>\n",
       "      <td>17</td>\n",
       "      <td>129.283333</td>\n",
       "      <td>0</td>\n",
       "      <td>4</td>\n",
       "      <td>56</td>\n",
       "      <td>4.933333</td>\n",
       "      <td>4.933333</td>\n",
       "    </tr>\n",
       "    <tr>\n",
       "      <th>1</th>\n",
       "      <td>1.0</td>\n",
       "      <td>4</td>\n",
       "      <td>Tsegay, Yemane Adhane</td>\n",
       "      <td>30</td>\n",
       "      <td>M</td>\n",
       "      <td>Addis Ababa</td>\n",
       "      <td>NaN</td>\n",
       "      <td>ETH</td>\n",
       "      <td>NaN</td>\n",
       "      <td>NaN</td>\n",
       "      <td>...</td>\n",
       "      <td>NaN</td>\n",
       "      <td>2</td>\n",
       "      <td>9</td>\n",
       "      <td>48</td>\n",
       "      <td>129.800000</td>\n",
       "      <td>0</td>\n",
       "      <td>4</td>\n",
       "      <td>58</td>\n",
       "      <td>4.966667</td>\n",
       "      <td>4.966667</td>\n",
       "    </tr>\n",
       "    <tr>\n",
       "      <th>2</th>\n",
       "      <td>2.0</td>\n",
       "      <td>8</td>\n",
       "      <td>Chebet, Wilson</td>\n",
       "      <td>29</td>\n",
       "      <td>M</td>\n",
       "      <td>Marakwet</td>\n",
       "      <td>NaN</td>\n",
       "      <td>KEN</td>\n",
       "      <td>NaN</td>\n",
       "      <td>NaN</td>\n",
       "      <td>...</td>\n",
       "      <td>NaN</td>\n",
       "      <td>2</td>\n",
       "      <td>10</td>\n",
       "      <td>22</td>\n",
       "      <td>130.366667</td>\n",
       "      <td>0</td>\n",
       "      <td>4</td>\n",
       "      <td>59</td>\n",
       "      <td>4.983333</td>\n",
       "      <td>4.983333</td>\n",
       "    </tr>\n",
       "    <tr>\n",
       "      <th>3</th>\n",
       "      <td>3.0</td>\n",
       "      <td>11</td>\n",
       "      <td>Kipyego, Bernard</td>\n",
       "      <td>28</td>\n",
       "      <td>M</td>\n",
       "      <td>Eldoret</td>\n",
       "      <td>NaN</td>\n",
       "      <td>KEN</td>\n",
       "      <td>NaN</td>\n",
       "      <td>NaN</td>\n",
       "      <td>...</td>\n",
       "      <td>NaN</td>\n",
       "      <td>2</td>\n",
       "      <td>10</td>\n",
       "      <td>47</td>\n",
       "      <td>130.783333</td>\n",
       "      <td>0</td>\n",
       "      <td>5</td>\n",
       "      <td>0</td>\n",
       "      <td>5.000000</td>\n",
       "      <td>5.000000</td>\n",
       "    </tr>\n",
       "    <tr>\n",
       "      <th>4</th>\n",
       "      <td>4.0</td>\n",
       "      <td>10</td>\n",
       "      <td>Korir, Wesley</td>\n",
       "      <td>32</td>\n",
       "      <td>M</td>\n",
       "      <td>Kitale</td>\n",
       "      <td>NaN</td>\n",
       "      <td>KEN</td>\n",
       "      <td>NaN</td>\n",
       "      <td>NaN</td>\n",
       "      <td>...</td>\n",
       "      <td>NaN</td>\n",
       "      <td>2</td>\n",
       "      <td>10</td>\n",
       "      <td>49</td>\n",
       "      <td>130.816667</td>\n",
       "      <td>0</td>\n",
       "      <td>5</td>\n",
       "      <td>0</td>\n",
       "      <td>5.000000</td>\n",
       "      <td>5.000000</td>\n",
       "    </tr>\n",
       "  </tbody>\n",
       "</table>\n",
       "<p>5 rows × 35 columns</p>\n",
       "</div>"
      ],
      "text/plain": [
       "   Unnamed: 0 Bib                   Name  Age M/F         City State Country  \\\n",
       "0         0.0   3         Desisa, Lelisa   25   M         Ambo   NaN     ETH   \n",
       "1         1.0   4  Tsegay, Yemane Adhane   30   M  Addis Ababa   NaN     ETH   \n",
       "2         2.0   8         Chebet, Wilson   29   M     Marakwet   NaN     KEN   \n",
       "3         3.0  11       Kipyego, Bernard   28   M      Eldoret   NaN     KEN   \n",
       "4         4.0  10          Korir, Wesley   32   M       Kitale   NaN     KEN   \n",
       "\n",
       "  Citizen Unnamed: 9  ... Unnamed: 8 Hours Minutes Seconds  \\\n",
       "0     NaN        NaN  ...        NaN     2       9      17   \n",
       "1     NaN        NaN  ...        NaN     2       9      48   \n",
       "2     NaN        NaN  ...        NaN     2      10      22   \n",
       "3     NaN        NaN  ...        NaN     2      10      47   \n",
       "4     NaN        NaN  ...        NaN     2      10      49   \n",
       "\n",
       "  finish_time_in_minutes pHours pMinutes pSeconds peace_in_minute  \\\n",
       "0             129.283333      0        4       56        4.933333   \n",
       "1             129.800000      0        4       58        4.966667   \n",
       "2             130.366667      0        4       59        4.983333   \n",
       "3             130.783333      0        5        0        5.000000   \n",
       "4             130.816667      0        5        0        5.000000   \n",
       "\n",
       "  pace_in_minute  \n",
       "0       4.933333  \n",
       "1       4.966667  \n",
       "2       4.983333  \n",
       "3       5.000000  \n",
       "4       5.000000  \n",
       "\n",
       "[5 rows x 35 columns]"
      ]
     },
     "execution_count": 110,
     "metadata": {},
     "output_type": "execute_result"
    }
   ],
   "source": [
    "df.head(       )"
   ]
  },
  {
   "cell_type": "code",
   "execution_count": 113,
   "id": "0b5daedd-9b39-4dd8-a964-b776c6bda3ca",
   "metadata": {},
   "outputs": [],
   "source": [
    "# find correltion coeficient \n",
    "correletion_coeficient = df[\"pace_in_minute\"].corr(df[\"finish_time_in_minutes\"])"
   ]
  },
  {
   "cell_type": "code",
   "execution_count": 116,
   "id": "9a07b953-82dc-4199-a998-9a57cd7834d1",
   "metadata": {},
   "outputs": [
    {
     "name": "stdout",
     "output_type": "stream",
     "text": [
      "0       -124.350000\n",
      "1       -124.833333\n",
      "2       -125.383333\n",
      "3       -125.783333\n",
      "4       -125.816667\n",
      "            ...    \n",
      "26405   -413.250000\n",
      "26406   -420.316667\n",
      "26407   -422.833333\n",
      "26408   -423.916667\n",
      "26409   -459.983333\n",
      "Length: 79638, dtype: float64\n"
     ]
    },
    {
     "data": {
      "image/png": "[encoded data removed]",
      "text/plain": [
       "<Figure size 1700x600 with 1 Axes>"
      ]
     },
     "metadata": {},
     "output_type": "display_data"
    }
   ],
   "source": [
    "plt.figure(figsize=(17,6))\n",
    "plt.scatter (df[\"pace_in_minute\"],df['finish_time_in_minutes'],color=\"hotpink\")\n",
    "plt.xlabel(\"pace_in_minute\")\n",
    "plt.ylabel(\"finish_time_in_minutes\")\n",
    "plt.title(f\"scatter plot (correlation:{correletion_coeficient:.2f})\")\n",
    "#Identify potential outliers (eg. values with residuals greater than  2 times the standard deviation )\n",
    "residuals=df[\"pace_in_minute\"]-df[\"finish_time_in_minutes\"]\n",
    "print(residuals)\n",
    "\n",
    "\n",
    "\n"
   ]
  },
  {
   "cell_type": "markdown",
   "id": "764efd77-072a-469e-bed7-a4bdc9fe4ea9",
   "metadata": {},
   "source": [
    "<h2>covariation<h/2>"
   ]
  },
  {
   "cell_type": "code",
   "execution_count": 14,
   "id": "84a18ed4-8bbe-412e-ac56-c71abc1c4e2c",
   "metadata": {},
   "outputs": [],
   "source": [
    "import pandas as pd\n",
    "import matplotlib.pyplot as plt\n",
    "df=pd.read_csv(\"SP500 oil gold bitcoin.csv\")"
   ]
  },
  {
   "cell_type": "code",
   "execution_count": 15,
   "id": "1bb53467-5c27-4caf-9887-6734d2000f88",
   "metadata": {},
   "outputs": [
    {
     "data": {
      "text/html": [
       "<div>\n",
       "<style scoped>\n",
       "    .dataframe tbody tr th:only-of-type {\n",
       "        vertical-align: middle;\n",
       "    }\n",
       "\n",
       "    .dataframe tbody tr th {\n",
       "        vertical-align: top;\n",
       "    }\n",
       "\n",
       "    .dataframe thead th {\n",
       "        text-align: right;\n",
       "    }\n",
       "</style>\n",
       "<table border=\"1\" class=\"dataframe\">\n",
       "  <thead>\n",
       "    <tr style=\"text-align: right;\">\n",
       "      <th></th>\n",
       "      <th>Date</th>\n",
       "      <th>BITCOIN</th>\n",
       "      <th>Brent Oil</th>\n",
       "      <th>Crude Oil WTI</th>\n",
       "      <th>Gold</th>\n",
       "      <th>S&amp;P500</th>\n",
       "    </tr>\n",
       "  </thead>\n",
       "  <tbody>\n",
       "    <tr>\n",
       "      <th>0</th>\n",
       "      <td>2010-07-18</td>\n",
       "      <td>0.1</td>\n",
       "      <td>75.37</td>\n",
       "      <td>76.01</td>\n",
       "      <td>1188.0</td>\n",
       "      <td>1064.88</td>\n",
       "    </tr>\n",
       "    <tr>\n",
       "      <th>1</th>\n",
       "      <td>2010-07-19</td>\n",
       "      <td>0.1</td>\n",
       "      <td>75.62</td>\n",
       "      <td>76.54</td>\n",
       "      <td>1181.7</td>\n",
       "      <td>1071.25</td>\n",
       "    </tr>\n",
       "    <tr>\n",
       "      <th>2</th>\n",
       "      <td>2010-07-20</td>\n",
       "      <td>0.1</td>\n",
       "      <td>76.22</td>\n",
       "      <td>77.44</td>\n",
       "      <td>1191.5</td>\n",
       "      <td>1083.48</td>\n",
       "    </tr>\n",
       "    <tr>\n",
       "      <th>3</th>\n",
       "      <td>2010-07-21</td>\n",
       "      <td>0.1</td>\n",
       "      <td>75.37</td>\n",
       "      <td>76.56</td>\n",
       "      <td>1191.6</td>\n",
       "      <td>1069.59</td>\n",
       "    </tr>\n",
       "    <tr>\n",
       "      <th>4</th>\n",
       "      <td>2010-07-22</td>\n",
       "      <td>0.1</td>\n",
       "      <td>77.82</td>\n",
       "      <td>79.30</td>\n",
       "      <td>1195.5</td>\n",
       "      <td>1093.67</td>\n",
       "    </tr>\n",
       "  </tbody>\n",
       "</table>\n",
       "</div>"
      ],
      "text/plain": [
       "         Date  BITCOIN  Brent Oil  Crude Oil WTI    Gold   S&P500\n",
       "0  2010-07-18      0.1      75.37          76.01  1188.0  1064.88\n",
       "1  2010-07-19      0.1      75.62          76.54  1181.7  1071.25\n",
       "2  2010-07-20      0.1      76.22          77.44  1191.5  1083.48\n",
       "3  2010-07-21      0.1      75.37          76.56  1191.6  1069.59\n",
       "4  2010-07-22      0.1      77.82          79.30  1195.5  1093.67"
      ]
     },
     "execution_count": 15,
     "metadata": {},
     "output_type": "execute_result"
    }
   ],
   "source": [
    "df.head()"
   ]
  },
  {
   "cell_type": "code",
   "execution_count": 16,
   "id": "a761bb18-507d-4663-8fe3-74145178acb1",
   "metadata": {},
   "outputs": [],
   "source": [
    "#calculate correlation \n",
    "corr =df[[\"BITCOIN\",'Gold',\"S&P500\"]].corr()"
   ]
  },
  {
   "cell_type": "code",
   "execution_count": 17,
   "id": "87813e70-c128-4836-a506-763d22c944c7",
   "metadata": {},
   "outputs": [
    {
     "data": {
      "image/png": "[encoded data removed]",
      "text/plain": [
       "<Figure size 800x600 with 1 Axes>"
      ]
     },
     "metadata": {},
     "output_type": "display_data"
    },
    {
     "data": {
      "image/png": "[encoded data removed]",
      "text/plain": [
       "<Figure size 800x600 with 1 Axes>"
      ]
     },
     "metadata": {},
     "output_type": "display_data"
    }
   ],
   "source": [
    "#Create the scatter plot for bitcoin vs other column \n",
    "for col in  ['Gold','S&P500']:\n",
    "    plt.figure(figsize=(8,6))\n",
    "    plt.scatter(df['BITCOIN'],df[col])\n",
    "    plt.title(f\"correlation between bitcoin and {col}\")\n",
    "    plt.xlabel(\"biycoin\")\n",
    "    plt.ylabel(col)\n",
    "    plt.text(0.7,0.3,f\"correlation :{corr.loc[\"BITCOIN\",col]:.2f}\",ha=\"center\",fontsize=12)\n",
    "    plt.grid(True)\n",
    "    plt.show()"
   ]
  },
  {
   "cell_type": "code",
   "execution_count": 20,
   "id": "3f15c095-e168-49e7-a17b-13ddf705fb0e",
   "metadata": {},
   "outputs": [
    {
     "name": "stdout",
     "output_type": "stream",
     "text": [
      "correlation matrix:\n"
     ]
    },
    {
     "data": {
      "text/html": [
       "<div>\n",
       "<style scoped>\n",
       "    .dataframe tbody tr th:only-of-type {\n",
       "        vertical-align: middle;\n",
       "    }\n",
       "\n",
       "    .dataframe tbody tr th {\n",
       "        vertical-align: top;\n",
       "    }\n",
       "\n",
       "    .dataframe thead th {\n",
       "        text-align: right;\n",
       "    }\n",
       "</style>\n",
       "<table border=\"1\" class=\"dataframe\">\n",
       "  <thead>\n",
       "    <tr style=\"text-align: right;\">\n",
       "      <th></th>\n",
       "      <th>BITCOIN</th>\n",
       "      <th>Gold</th>\n",
       "      <th>S&amp;P500</th>\n",
       "    </tr>\n",
       "  </thead>\n",
       "  <tbody>\n",
       "    <tr>\n",
       "      <th>BITCOIN</th>\n",
       "      <td>1.000000</td>\n",
       "      <td>0.594622</td>\n",
       "      <td>0.862225</td>\n",
       "    </tr>\n",
       "    <tr>\n",
       "      <th>Gold</th>\n",
       "      <td>0.594622</td>\n",
       "      <td>1.000000</td>\n",
       "      <td>0.445658</td>\n",
       "    </tr>\n",
       "    <tr>\n",
       "      <th>S&amp;P500</th>\n",
       "      <td>0.862225</td>\n",
       "      <td>0.445658</td>\n",
       "      <td>1.000000</td>\n",
       "    </tr>\n",
       "  </tbody>\n",
       "</table>\n",
       "</div>"
      ],
      "text/plain": [
       "          BITCOIN      Gold    S&P500\n",
       "BITCOIN  1.000000  0.594622  0.862225\n",
       "Gold     0.594622  1.000000  0.445658\n",
       "S&P500   0.862225  0.445658  1.000000"
      ]
     },
     "execution_count": 20,
     "metadata": {},
     "output_type": "execute_result"
    }
   ],
   "source": [
    "#print th e correlation matrix\n",
    "print(\"correlation matrix:\")\n",
    "corr"
   ]
  },
  {
   "cell_type": "code",
   "execution_count": 21,
   "id": "f8a503e6-aeef-4eb9-94df-640b7872c681",
   "metadata": {},
   "outputs": [],
   "source": [
    "cov=df[[\"BITCOIN\",'Gold',\"S&P500\"]].cov()"
   ]
  },
  {
   "cell_type": "code",
   "execution_count": 22,
   "id": "225b28ae-82d2-46c4-b0b4-a4d4b9097ce9",
   "metadata": {},
   "outputs": [
    {
     "name": "stdout",
     "output_type": "stream",
     "text": [
      "\n",
      " covariance matrix:\n",
      "              BITCOIN          Gold        S&P500\n",
      "BITCOIN  2.134886e+08  2.124359e+06  1.187061e+07\n",
      "Gold     2.124359e+06  5.978601e+04  1.026755e+05\n",
      "S&P500   1.187061e+07  1.026755e+05  8.878310e+05\n",
      "          BITCOIN      Gold    S&P500\n",
      "BITCOIN 2.135e+08 2.124e+06 1.187e+07\n",
      "Gold    2.124e+06 5.979e+04 1.027e+05\n",
      "S&P500  1.187e+07 1.027e+05 8.878e+05\n"
     ]
    }
   ],
   "source": [
    "#print th e covariance matrix\n",
    "print(\"\\n covariance matrix:\")\n",
    "print(cov)\n",
    "# Also print without scientific notation (e)\n",
    "print(cov.to_string(float_format = '{:0.4}'.format)) # format to 4 decimal places"
   ]
  },
  {
   "cell_type": "code",
   "execution_count": null,
   "id": "cb286183-7424-4d7a-9653-5c09601d47cc",
   "metadata": {},
   "outputs": [],
   "source": []
  }
 ],
 "metadata": {
  "kernelspec": {
   "display_name": "Python 3 (ipykernel)",
   "language": "python",
   "name": "python3"
  },
  "language_info": {
   "codemirror_mode": {
    "name": "ipython",
    "version": 3
   },
   "file_extension": ".py",
   "mimetype": "text/x-python",
   "name": "python",
   "nbconvert_exporter": "python",
   "pygments_lexer": "ipython3",
   "version": "3.12.3"
  }
 },
 "nbformat": 4,
 "nbformat_minor": 5
}
