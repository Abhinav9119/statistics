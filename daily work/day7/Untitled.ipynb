{
 "cells": [
  {
   "cell_type": "code",
   "execution_count": 1,
   "id": "bc904293-0da6-4924-a0cc-e7db8312187a",
   "metadata": {},
   "outputs": [],
   "source": [
    "#now let us compare pmf and cmf\n",
    "#create series for male\n",
    "import numpy as np\n",
    "import matplotlib.pyplot as plt\n",
    "import pandas as pd\n",
    "import seaborn as sns"
   ]
  },
  {
   "cell_type": "code",
   "execution_count": 2,
   "id": "903694a8-707c-4607-af9e-21d51282ac20",
   "metadata": {},
   "outputs": [
    {
     "ename": "NameError",
     "evalue": "name 'gss' is not defined",
     "output_type": "error",
     "traceback": [
      "\u001b[1;31m---------------------------------------------------------------------------\u001b[0m",
      "\u001b[1;31mNameError\u001b[0m                                 Traceback (most recent call last)",
      "Cell \u001b[1;32mIn[2], line 1\u001b[0m\n\u001b[1;32m----> 1\u001b[0m male\u001b[38;5;241m=\u001b[39m(\u001b[43mgss\u001b[49m[\u001b[38;5;124m'\u001b[39m\u001b[38;5;124mGENDER\u001b[39m\u001b[38;5;124m'\u001b[39m]\u001b[38;5;241m==\u001b[39m\u001b[38;5;241m1\u001b[39m)\n\u001b[0;32m      2\u001b[0m female\u001b[38;5;241m=\u001b[39m(gss[\u001b[38;5;124m'\u001b[39m\u001b[38;5;124mGENDER\u001b[39m\u001b[38;5;124m'\u001b[39m]\u001b[38;5;241m==\u001b[39m\u001b[38;5;241m2\u001b[39m)\n",
      "\u001b[1;31mNameError\u001b[0m: name 'gss' is not defined"
     ]
    }
   ],
   "source": [
    "male=(gss['GENDER']==1)\n",
    "female=(gss['GENDER']==2)\n"
   ]
  },
  {
   "cell_type": "code",
   "execution_count": null,
   "id": "92161d2f-236d-4a0e-af9c-a674d0437466",
   "metadata": {},
   "outputs": [],
   "source": [
    "#select age\n",
    "male_age=age[male]\n",
    "female_age=age[female]\n"
   ]
  },
  {
   "cell_type": "code",
   "execution_count": null,
   "id": "9226d1cd-bfbb-4d21-b415-24f4bd1508e7",
   "metadata": {},
   "outputs": [],
   "source": [
    "#plot Pmf for each\n",
    "pmf_male_age=Pmf.from_seq(male_age)\n",
    "pmf_male_age.plot(label=\"Male\")\n",
    "pmf_female_age=Pmf.from_seq(female_age)\n",
    "pmf_female_age.plot(label='female')\n",
    "plt.xlabel(\"age (year)\")\n",
    "plt.ylabel(\"PMF\")\n",
    "plt.title(\"distribution of age by gender\")\n",
    "plt.legend()\n",
    "plt.show()"
   ]
  }
 ],
 "metadata": {
  "kernelspec": {
   "display_name": "Python 3 (ipykernel)",
   "language": "python",
   "name": "python3"
  },
  "language_info": {
   "codemirror_mode": {
    "name": "ipython",
    "version": 3
   },
   "file_extension": ".py",
   "mimetype": "text/x-python",
   "name": "python",
   "nbconvert_exporter": "python",
   "pygments_lexer": "ipython3",
   "version": "3.12.3"
  }
 },
 "nbformat": 4,
 "nbformat_minor": 5
}
