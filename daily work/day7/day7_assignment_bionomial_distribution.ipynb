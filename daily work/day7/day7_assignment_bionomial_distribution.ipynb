{
 "cells": [
  {
   "cell_type": "code",
   "execution_count": 1,
   "id": "bf1dfb79-3f47-4e9a-b370-5e641b7198f7",
   "metadata": {},
   "outputs": [],
   "source": [
    "import pandas as pd\n",
    "import numpy as np\n",
    "from scipy.stats import binom\n",
    "import matplotlib.pyplot as plt\n",
    "import seaborn as sns"
   ]
  },
  {
   "cell_type": "code",
   "execution_count": 2,
   "id": "2c739f2c-8af2-4862-a9a2-1756b104ec86",
   "metadata": {},
   "outputs": [],
   "source": [
    "#assignment: do a binomial distribution sumulation analysis for weekends of the tips dataset ()\n"
   ]
  },
  {
   "cell_type": "code",
   "execution_count": 3,
   "id": "cef103d5-139c-451d-8d6a-9e6e64d41fd7",
   "metadata": {},
   "outputs": [
    {
     "name": "stdout",
     "output_type": "stream",
     "text": [
      "     total_bill   tip  gender smoker   day    time  size  price_per_person  \\\n",
      "0         16.99  1.01  Female     No   Sun  Dinner     2              8.49   \n",
      "1         10.34  1.66    Male     No   Sun  Dinner     3              3.45   \n",
      "2         21.01  3.50    Male     No   Sun  Dinner     3              7.00   \n",
      "3         23.68  3.31    Male     No   Sun  Dinner     2             11.84   \n",
      "4         24.59  3.61  Female     No   Sun  Dinner     4              6.15   \n",
      "..          ...   ...     ...    ...   ...     ...   ...               ...   \n",
      "239       29.03  5.92    Male     No   Sat  Dinner     3              9.68   \n",
      "240       27.18  2.00  Female    Yes   Sat  Dinner     2             13.59   \n",
      "241       22.67  2.00    Male    Yes   Sat  Dinner     2             11.34   \n",
      "242       17.82  1.75    Male     No   Sat  Dinner     2              8.91   \n",
      "243       18.78  3.00  Female     No  Thur  Dinner     2              9.39   \n",
      "\n",
      "             Payer Name     CC Number Payment ID  \n",
      "0    Christy Cunningham  3.560330e+15    Sun2959  \n",
      "1        Douglas Tucker  4.478070e+15    Sun4608  \n",
      "2        Travis Walters  6.011810e+15    Sun4458  \n",
      "3      Nathaniel Harris  4.676140e+15    Sun5260  \n",
      "4          Tonya Carter  4.832730e+15    Sun2251  \n",
      "..                  ...           ...        ...  \n",
      "239       Michael Avila  5.296070e+15    Sat2657  \n",
      "240      Monica Sanders  3.506810e+15    Sat1766  \n",
      "241          Keith Wong  6.011890e+15    Sat3880  \n",
      "242        Dennis Dixon  4.375220e+12      Sat17  \n",
      "243     Michelle Hardin  3.511450e+15    Thur672  \n",
      "\n",
      "[244 rows x 11 columns]\n",
      "<class 'pandas.core.frame.DataFrame'>\n",
      "RangeIndex: 244 entries, 0 to 243\n",
      "Data columns (total 11 columns):\n",
      " #   Column            Non-Null Count  Dtype  \n",
      "---  ------            --------------  -----  \n",
      " 0   total_bill        244 non-null    float64\n",
      " 1   tip               244 non-null    float64\n",
      " 2   gender            244 non-null    object \n",
      " 3   smoker            244 non-null    object \n",
      " 4   day               244 non-null    object \n",
      " 5   time              244 non-null    object \n",
      " 6   size              244 non-null    int64  \n",
      " 7   price_per_person  244 non-null    float64\n",
      " 8   Payer Name        244 non-null    object \n",
      " 9   CC Number         244 non-null    float64\n",
      " 10  Payment ID        244 non-null    object \n",
      "dtypes: float64(4), int64(1), object(6)\n",
      "memory usage: 21.1+ KB\n",
      "None\n"
     ]
    }
   ],
   "source": [
    "df=pd.read_csv(\"tips.csv\")\n",
    "print(df)\n",
    "print(df.info())"
   ]
  },
  {
   "cell_type": "code",
   "execution_count": 4,
   "id": "d3fc3595-9e3d-4944-b3f1-4aaf03ecd998",
   "metadata": {},
   "outputs": [
    {
     "data": {
      "text/html": [
       "<div>\n",
       "<style scoped>\n",
       "    .dataframe tbody tr th:only-of-type {\n",
       "        vertical-align: middle;\n",
       "    }\n",
       "\n",
       "    .dataframe tbody tr th {\n",
       "        vertical-align: top;\n",
       "    }\n",
       "\n",
       "    .dataframe thead th {\n",
       "        text-align: right;\n",
       "    }\n",
       "</style>\n",
       "<table border=\"1\" class=\"dataframe\">\n",
       "  <thead>\n",
       "    <tr style=\"text-align: right;\">\n",
       "      <th></th>\n",
       "      <th>total_bill</th>\n",
       "      <th>tip</th>\n",
       "      <th>gender</th>\n",
       "      <th>smoker</th>\n",
       "      <th>day</th>\n",
       "      <th>time</th>\n",
       "      <th>size</th>\n",
       "      <th>price_per_person</th>\n",
       "      <th>Payer Name</th>\n",
       "      <th>CC Number</th>\n",
       "      <th>Payment ID</th>\n",
       "    </tr>\n",
       "  </thead>\n",
       "  <tbody>\n",
       "    <tr>\n",
       "      <th>0</th>\n",
       "      <td>16.99</td>\n",
       "      <td>1.01</td>\n",
       "      <td>Female</td>\n",
       "      <td>No</td>\n",
       "      <td>Sun</td>\n",
       "      <td>Dinner</td>\n",
       "      <td>2</td>\n",
       "      <td>8.49</td>\n",
       "      <td>Christy Cunningham</td>\n",
       "      <td>3.560330e+15</td>\n",
       "      <td>Sun2959</td>\n",
       "    </tr>\n",
       "    <tr>\n",
       "      <th>1</th>\n",
       "      <td>10.34</td>\n",
       "      <td>1.66</td>\n",
       "      <td>Male</td>\n",
       "      <td>No</td>\n",
       "      <td>Sun</td>\n",
       "      <td>Dinner</td>\n",
       "      <td>3</td>\n",
       "      <td>3.45</td>\n",
       "      <td>Douglas Tucker</td>\n",
       "      <td>4.478070e+15</td>\n",
       "      <td>Sun4608</td>\n",
       "    </tr>\n",
       "    <tr>\n",
       "      <th>2</th>\n",
       "      <td>21.01</td>\n",
       "      <td>3.50</td>\n",
       "      <td>Male</td>\n",
       "      <td>No</td>\n",
       "      <td>Sun</td>\n",
       "      <td>Dinner</td>\n",
       "      <td>3</td>\n",
       "      <td>7.00</td>\n",
       "      <td>Travis Walters</td>\n",
       "      <td>6.011810e+15</td>\n",
       "      <td>Sun4458</td>\n",
       "    </tr>\n",
       "    <tr>\n",
       "      <th>3</th>\n",
       "      <td>23.68</td>\n",
       "      <td>3.31</td>\n",
       "      <td>Male</td>\n",
       "      <td>No</td>\n",
       "      <td>Sun</td>\n",
       "      <td>Dinner</td>\n",
       "      <td>2</td>\n",
       "      <td>11.84</td>\n",
       "      <td>Nathaniel Harris</td>\n",
       "      <td>4.676140e+15</td>\n",
       "      <td>Sun5260</td>\n",
       "    </tr>\n",
       "    <tr>\n",
       "      <th>4</th>\n",
       "      <td>24.59</td>\n",
       "      <td>3.61</td>\n",
       "      <td>Female</td>\n",
       "      <td>No</td>\n",
       "      <td>Sun</td>\n",
       "      <td>Dinner</td>\n",
       "      <td>4</td>\n",
       "      <td>6.15</td>\n",
       "      <td>Tonya Carter</td>\n",
       "      <td>4.832730e+15</td>\n",
       "      <td>Sun2251</td>\n",
       "    </tr>\n",
       "    <tr>\n",
       "      <th>...</th>\n",
       "      <td>...</td>\n",
       "      <td>...</td>\n",
       "      <td>...</td>\n",
       "      <td>...</td>\n",
       "      <td>...</td>\n",
       "      <td>...</td>\n",
       "      <td>...</td>\n",
       "      <td>...</td>\n",
       "      <td>...</td>\n",
       "      <td>...</td>\n",
       "      <td>...</td>\n",
       "    </tr>\n",
       "    <tr>\n",
       "      <th>238</th>\n",
       "      <td>35.83</td>\n",
       "      <td>4.67</td>\n",
       "      <td>Female</td>\n",
       "      <td>No</td>\n",
       "      <td>Sat</td>\n",
       "      <td>Dinner</td>\n",
       "      <td>3</td>\n",
       "      <td>11.94</td>\n",
       "      <td>Kimberly Crane</td>\n",
       "      <td>6.761840e+11</td>\n",
       "      <td>Sat9777</td>\n",
       "    </tr>\n",
       "    <tr>\n",
       "      <th>239</th>\n",
       "      <td>29.03</td>\n",
       "      <td>5.92</td>\n",
       "      <td>Male</td>\n",
       "      <td>No</td>\n",
       "      <td>Sat</td>\n",
       "      <td>Dinner</td>\n",
       "      <td>3</td>\n",
       "      <td>9.68</td>\n",
       "      <td>Michael Avila</td>\n",
       "      <td>5.296070e+15</td>\n",
       "      <td>Sat2657</td>\n",
       "    </tr>\n",
       "    <tr>\n",
       "      <th>240</th>\n",
       "      <td>27.18</td>\n",
       "      <td>2.00</td>\n",
       "      <td>Female</td>\n",
       "      <td>Yes</td>\n",
       "      <td>Sat</td>\n",
       "      <td>Dinner</td>\n",
       "      <td>2</td>\n",
       "      <td>13.59</td>\n",
       "      <td>Monica Sanders</td>\n",
       "      <td>3.506810e+15</td>\n",
       "      <td>Sat1766</td>\n",
       "    </tr>\n",
       "    <tr>\n",
       "      <th>241</th>\n",
       "      <td>22.67</td>\n",
       "      <td>2.00</td>\n",
       "      <td>Male</td>\n",
       "      <td>Yes</td>\n",
       "      <td>Sat</td>\n",
       "      <td>Dinner</td>\n",
       "      <td>2</td>\n",
       "      <td>11.34</td>\n",
       "      <td>Keith Wong</td>\n",
       "      <td>6.011890e+15</td>\n",
       "      <td>Sat3880</td>\n",
       "    </tr>\n",
       "    <tr>\n",
       "      <th>242</th>\n",
       "      <td>17.82</td>\n",
       "      <td>1.75</td>\n",
       "      <td>Male</td>\n",
       "      <td>No</td>\n",
       "      <td>Sat</td>\n",
       "      <td>Dinner</td>\n",
       "      <td>2</td>\n",
       "      <td>8.91</td>\n",
       "      <td>Dennis Dixon</td>\n",
       "      <td>4.375220e+12</td>\n",
       "      <td>Sat17</td>\n",
       "    </tr>\n",
       "  </tbody>\n",
       "</table>\n",
       "<p>163 rows × 11 columns</p>\n",
       "</div>"
      ],
      "text/plain": [
       "     total_bill   tip  gender smoker  day    time  size  price_per_person  \\\n",
       "0         16.99  1.01  Female     No  Sun  Dinner     2              8.49   \n",
       "1         10.34  1.66    Male     No  Sun  Dinner     3              3.45   \n",
       "2         21.01  3.50    Male     No  Sun  Dinner     3              7.00   \n",
       "3         23.68  3.31    Male     No  Sun  Dinner     2             11.84   \n",
       "4         24.59  3.61  Female     No  Sun  Dinner     4              6.15   \n",
       "..          ...   ...     ...    ...  ...     ...   ...               ...   \n",
       "238       35.83  4.67  Female     No  Sat  Dinner     3             11.94   \n",
       "239       29.03  5.92    Male     No  Sat  Dinner     3              9.68   \n",
       "240       27.18  2.00  Female    Yes  Sat  Dinner     2             13.59   \n",
       "241       22.67  2.00    Male    Yes  Sat  Dinner     2             11.34   \n",
       "242       17.82  1.75    Male     No  Sat  Dinner     2              8.91   \n",
       "\n",
       "             Payer Name     CC Number Payment ID  \n",
       "0    Christy Cunningham  3.560330e+15    Sun2959  \n",
       "1        Douglas Tucker  4.478070e+15    Sun4608  \n",
       "2        Travis Walters  6.011810e+15    Sun4458  \n",
       "3      Nathaniel Harris  4.676140e+15    Sun5260  \n",
       "4          Tonya Carter  4.832730e+15    Sun2251  \n",
       "..                  ...           ...        ...  \n",
       "238      Kimberly Crane  6.761840e+11    Sat9777  \n",
       "239       Michael Avila  5.296070e+15    Sat2657  \n",
       "240      Monica Sanders  3.506810e+15    Sat1766  \n",
       "241          Keith Wong  6.011890e+15    Sat3880  \n",
       "242        Dennis Dixon  4.375220e+12      Sat17  \n",
       "\n",
       "[163 rows x 11 columns]"
      ]
     },
     "execution_count": 4,
     "metadata": {},
     "output_type": "execute_result"
    }
   ],
   "source": [
    "saturday=\"Sat\"\n",
    "sunday=\"Sun\"\n",
    "wekend_df=df[(df[\"day\"]==sunday)|(df[\"day\"]==saturday)]\n",
    "wekend_df"
   ]
  },
  {
   "cell_type": "code",
   "execution_count": 5,
   "id": "2719d5cb-e8d9-4e2e-923f-391caacec194",
   "metadata": {},
   "outputs": [],
   "source": [
    "total_peoples=df['Payment ID'].nunique()\n",
    "wekend_people=len(wekend_df)\n"
   ]
  },
  {
   "cell_type": "code",
   "execution_count": 6,
   "id": "25712055-9604-48e9-b95a-b12b695c1c33",
   "metadata": {},
   "outputs": [],
   "source": [
    "people_probability=wekend_people/total_peoples"
   ]
  },
  {
   "cell_type": "code",
   "execution_count": 7,
   "id": "db1914f0-999c-4a57-8b42-b29f1a6f0c08",
   "metadata": {},
   "outputs": [
    {
     "name": "stdout",
     "output_type": "stream",
     "text": [
      "total peoples:243\n",
      "wekend_people:163\n",
      "people_probability:0.6708\n"
     ]
    }
   ],
   "source": [
    "print(f'total peoples:{total_peoples}')\n",
    "print(f'wekend_people:{wekend_people}')\n",
    "print(f'people_probability:{people_probability:.4f}')"
   ]
  },
  {
   "cell_type": "code",
   "execution_count": 8,
   "id": "c90c6518-747e-49c0-8f01-b11a8a5c0386",
   "metadata": {},
   "outputs": [],
   "source": [
    "n=1000\n",
    "p=people_probability\n",
    "simulated_purchase=np.random.binomial(n,p,3000)"
   ]
  },
  {
   "cell_type": "code",
   "execution_count": 9,
   "id": "e8dd262c-e49d-49c7-afaf-287c47330c91",
   "metadata": {},
   "outputs": [
    {
     "name": "stdout",
     "output_type": "stream",
     "text": [
      "       number of peoples\n",
      "count        3000.000000\n",
      "mean          670.104333\n",
      "std            14.650176\n",
      "min           612.000000\n",
      "25%           660.000000\n",
      "50%           670.000000\n",
      "75%           680.000000\n",
      "max           729.000000\n"
     ]
    }
   ],
   "source": [
    "simulated_df=pd.DataFrame(simulated_purchase,columns=[\"number of peoples\"])\n",
    "print(simulated_df.describe())"
   ]
  },
  {
   "cell_type": "code",
   "execution_count": 10,
   "id": "b8364d79-3e5d-4ef5-bd38-750ad9ad5ac5",
   "metadata": {},
   "outputs": [
    {
     "data": {
      "text/html": [
       "<div>\n",
       "<style scoped>\n",
       "    .dataframe tbody tr th:only-of-type {\n",
       "        vertical-align: middle;\n",
       "    }\n",
       "\n",
       "    .dataframe tbody tr th {\n",
       "        vertical-align: top;\n",
       "    }\n",
       "\n",
       "    .dataframe thead th {\n",
       "        text-align: right;\n",
       "    }\n",
       "</style>\n",
       "<table border=\"1\" class=\"dataframe\">\n",
       "  <thead>\n",
       "    <tr style=\"text-align: right;\">\n",
       "      <th></th>\n",
       "      <th>number of peoples</th>\n",
       "    </tr>\n",
       "  </thead>\n",
       "  <tbody>\n",
       "    <tr>\n",
       "      <th>0</th>\n",
       "      <td>678</td>\n",
       "    </tr>\n",
       "    <tr>\n",
       "      <th>1</th>\n",
       "      <td>662</td>\n",
       "    </tr>\n",
       "    <tr>\n",
       "      <th>2</th>\n",
       "      <td>667</td>\n",
       "    </tr>\n",
       "    <tr>\n",
       "      <th>3</th>\n",
       "      <td>675</td>\n",
       "    </tr>\n",
       "    <tr>\n",
       "      <th>4</th>\n",
       "      <td>671</td>\n",
       "    </tr>\n",
       "    <tr>\n",
       "      <th>...</th>\n",
       "      <td>...</td>\n",
       "    </tr>\n",
       "    <tr>\n",
       "      <th>2995</th>\n",
       "      <td>697</td>\n",
       "    </tr>\n",
       "    <tr>\n",
       "      <th>2996</th>\n",
       "      <td>690</td>\n",
       "    </tr>\n",
       "    <tr>\n",
       "      <th>2997</th>\n",
       "      <td>648</td>\n",
       "    </tr>\n",
       "    <tr>\n",
       "      <th>2998</th>\n",
       "      <td>701</td>\n",
       "    </tr>\n",
       "    <tr>\n",
       "      <th>2999</th>\n",
       "      <td>681</td>\n",
       "    </tr>\n",
       "  </tbody>\n",
       "</table>\n",
       "<p>3000 rows × 1 columns</p>\n",
       "</div>"
      ],
      "text/plain": [
       "      number of peoples\n",
       "0                   678\n",
       "1                   662\n",
       "2                   667\n",
       "3                   675\n",
       "4                   671\n",
       "...                 ...\n",
       "2995                697\n",
       "2996                690\n",
       "2997                648\n",
       "2998                701\n",
       "2999                681\n",
       "\n",
       "[3000 rows x 1 columns]"
      ]
     },
     "execution_count": 10,
     "metadata": {},
     "output_type": "execute_result"
    }
   ],
   "source": [
    "simulated_df"
   ]
  },
  {
   "cell_type": "code",
   "execution_count": 11,
   "id": "17c6115d-382e-4480-9626-25873feb7b57",
   "metadata": {},
   "outputs": [
    {
     "data": {
      "image/png": "[encoded data removed]",
      "text/plain": [
       "<Figure size 640x480 with 1 Axes>"
      ]
     },
     "metadata": {},
     "output_type": "display_data"
    }
   ],
   "source": [
    "sns.histplot(simulated_df['number of peoples'],bins=\"auto\",kde=True,edgecolor=\"hotpink\")\n",
    "\n",
    "\n",
    "plt.xlabel(\"no of customers\")\n",
    "plt.ylabel(\"frequency\")\n",
    "plt.title(\"simulation analysis for wekends customers\")\n",
    "\n",
    "plt.show()"
   ]
  },
  {
   "cell_type": "code",
   "execution_count": null,
   "id": "3123075c-c820-4949-bf0f-0cca583f9989",
   "metadata": {},
   "outputs": [],
   "source": [
    "\n"
   ]
  },
  {
   "cell_type": "code",
   "execution_count": null,
   "id": "612d8595-a162-4b75-9676-3326b3a85523",
   "metadata": {},
   "outputs": [],
   "source": []
  },
  {
   "cell_type": "code",
   "execution_count": 12,
   "id": "0ac57b7a-944f-408c-8251-a13c74bdc2fa",
   "metadata": {},
   "outputs": [
    {
     "name": "stdout",
     "output_type": "stream",
     "text": [
      "the probability of selling some policies in a week: 0.950212931632136\n"
     ]
    }
   ],
   "source": [
    "#a life insurance salesman sells on the average 3 life insurance policies per week use poisson's law to calculate the probability\n",
    "'''\n",
    "a.in a given week he will sell some policies \n",
    "b.in a given week he will sell 2 or more policies but not more than five policies \n",
    "c.assuming that per week there are 5 working days what is the probability that on a given day he will sell on policy?\n",
    "\n",
    "\n",
    "'''\n",
    "from scipy.stats import poisson\n",
    "#lambda\n",
    "mu=3\n",
    "#probability of selling some policies in a week\n",
    "print(\"the probability of selling some policies in a week:\",1-poisson.pmf(k=0,mu=mu))"
   ]
  },
  {
   "cell_type": "code",
   "execution_count": 13,
   "id": "406a50ef-9607-4a66-82e9-2a894c1e483a",
   "metadata": {},
   "outputs": [
    {
     "name": "stdout",
     "output_type": "stream",
     "text": [
      "the probability of selling three policies in a week:  0.22404180765538775\n"
     ]
    }
   ],
   "source": [
    "#probability of selling some policies in a week\n",
    "print(\"the probability of selling three policies in a week: \",poisson.pmf(k=3,mu=mu))"
   ]
  },
  {
   "cell_type": "code",
   "execution_count": 14,
   "id": "8d2239e2-70bb-409c-818d-ca2bf4b5aac7",
   "metadata": {},
   "outputs": [
    {
     "name": "stdout",
     "output_type": "stream",
     "text": [
      "the probability of selling 2 or more policies but less than 5 policies in a week:  0.6161149710523164\n"
     ]
    }
   ],
   "source": [
    "#the probability of selling 2 or more policies but less than 5 policies in a week\n",
    "print('the probability of selling 2 or more policies but less than 5 policies in a week: ',sum(poisson.pmf(k=[2,3,4],mu=mu)))"
   ]
  },
  {
   "cell_type": "code",
   "execution_count": 15,
   "id": "b676f823-7415-4a42-bce9-af1b0fcc1c1c",
   "metadata": {},
   "outputs": [
    {
     "name": "stdout",
     "output_type": "stream",
     "text": [
      "the proability that on a given day he will sell one policy:  0.3292869816564159\n"
     ]
    }
   ],
   "source": [
    "#assuming that per week three are 5 working days , what is the probability that on a given date will sell on policy?\n",
    "print(\"the proability that on a given day he will sell one policy: \",poisson.pmf(k=1,mu=3/5) )"
   ]
  },
  {
   "cell_type": "code",
   "execution_count": null,
   "id": "413379de-0654-4fff-928d-9cd55442f9c1",
   "metadata": {},
   "outputs": [],
   "source": []
  }
 ],
 "metadata": {
  "kernelspec": {
   "display_name": "Python 3 (ipykernel)",
   "language": "python",
   "name": "python3"
  },
  "language_info": {
   "codemirror_mode": {
    "name": "ipython",
    "version": 3
   },
   "file_extension": ".py",
   "mimetype": "text/x-python",
   "name": "python",
   "nbconvert_exporter": "python",
   "pygments_lexer": "ipython3",
   "version": "3.12.3"
  }
 },
 "nbformat": 4,
 "nbformat_minor": 5
}
