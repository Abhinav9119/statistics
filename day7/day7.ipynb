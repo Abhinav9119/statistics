{
 "cells": [
  {
   "cell_type": "code",
   "execution_count": 26,
   "id": "cd25757c-c645-4d81-a1a9-670489722c85",
   "metadata": {},
   "outputs": [],
   "source": [
    "from scipy.special import comb\n",
    "import seaborn as sns\n",
    "import matplotlib.pyplot as plt\n"
   ]
  },
  {
   "cell_type": "code",
   "execution_count": 27,
   "id": "41c079e7-90a3-49f1-be6e-4ce67808575c",
   "metadata": {},
   "outputs": [],
   "source": [
    "n=3 #number of trial\n",
    "k=2 #the number of success\n",
    "p=0.70 #Success rate\n"
   ]
  },
  {
   "cell_type": "code",
   "execution_count": 28,
   "id": "f608b9ee-3984-43d0-9d93-ec30610c72f2",
   "metadata": {},
   "outputs": [
    {
     "name": "stdout",
     "output_type": "stream",
     "text": [
      "44.1\n"
     ]
    }
   ],
   "source": [
    "p_binomial=comb(n,k)*p**k*(1-p)**(n-k)\n",
    "result=p_binomial*100\n",
    "print(result)"
   ]
  },
  {
   "cell_type": "code",
   "execution_count": 29,
   "id": "78f95b93-c36e-48ae-bfe2-3e5639fc0db4",
   "metadata": {},
   "outputs": [
    {
     "name": "stdout",
     "output_type": "stream",
     "text": [
      "7.4635\n"
     ]
    }
   ],
   "source": [
    "#suppose a factory produsces light bulbs and historically 5% of the bulbs are defective ,then \n",
    "#quality controlteam randomly selects 10 bulbs for testing what is the probability that\n",
    "#exactly 2 0f them are defective?\n",
    "\n",
    "n=10\n",
    "k=2\n",
    "p=0.05\n",
    "p_binomial=comb(n,k)*p**k*(1-p)**(n-k)\n",
    "result1=p_binomial*100\n",
    "print(f'{result1:.4f}')"
   ]
  },
  {
   "cell_type": "code",
   "execution_count": 30,
   "id": "b969c77d-63a1-4906-a910-ab682ac9b688",
   "metadata": {},
   "outputs": [
    {
     "name": "stdout",
     "output_type": "stream",
     "text": [
      "26.3076\n"
     ]
    }
   ],
   "source": [
    "#on average a bowler takes a wickert every eight overs what is the probability that he will bowl ten overs without succeding in getting a wicket\n",
    "n=10\n",
    "p=1/8\n",
    "q=1-p\n",
    "k=0\n",
    "p_binomial=comb(n,k)*p**k*(q)**(n-k)\n",
    "result=p_binomial*100\n",
    "print(f'{result:.4f}')\n"
   ]
  },
  {
   "cell_type": "code",
   "execution_count": null,
   "id": "61662b04-47d3-48fc-bbae-c0015d661ea8",
   "metadata": {},
   "outputs": [],
   "source": []
  },
  {
   "cell_type": "code",
   "execution_count": null,
   "id": "25ca9972-2eb8-4492-9a48-7998dee5619f",
   "metadata": {},
   "outputs": [],
   "source": []
  },
  {
   "cell_type": "code",
   "execution_count": 31,
   "id": "928361d9-a014-4828-9334-ea6e6431feb4",
   "metadata": {},
   "outputs": [],
   "source": [
    "import pandas as pd\n",
    "import numpy as np\n",
    "from scipy.stats import binom\n"
   ]
  },
  {
   "cell_type": "code",
   "execution_count": 34,
   "id": "9d414f53-0922-42c8-9234-90c9bb437fad",
   "metadata": {},
   "outputs": [
    {
     "name": "stdout",
     "output_type": "stream",
     "text": [
      "  InvoiceNo StockCode                          Description  Quantity  \\\n",
      "0    536365    85123A   WHITE HANGING HEART T-LIGHT HOLDER         6   \n",
      "1    536365     71053                  WHITE METAL LANTERN         6   \n",
      "2    536365    84406B       CREAM CUPID HEARTS COAT HANGER         8   \n",
      "3    536365    84029G  KNITTED UNION FLAG HOT WATER BOTTLE         6   \n",
      "4    536365    84029E       RED WOOLLY HOTTIE WHITE HEART.         6   \n",
      "\n",
      "      InvoiceDate  UnitPrice  CustomerID         Country  \n",
      "0  12/1/2010 8:26       2.55     17850.0  United Kingdom  \n",
      "1  12/1/2010 8:26       3.39     17850.0  United Kingdom  \n",
      "2  12/1/2010 8:26       2.75     17850.0  United Kingdom  \n",
      "3  12/1/2010 8:26       3.39     17850.0  United Kingdom  \n",
      "4  12/1/2010 8:26       3.39     17850.0  United Kingdom  \n",
      "<class 'pandas.core.frame.DataFrame'>\n",
      "RangeIndex: 541909 entries, 0 to 541908\n",
      "Data columns (total 8 columns):\n",
      " #   Column       Non-Null Count   Dtype  \n",
      "---  ------       --------------   -----  \n",
      " 0   InvoiceNo    541909 non-null  object \n",
      " 1   StockCode    541909 non-null  object \n",
      " 2   Description  540455 non-null  object \n",
      " 3   Quantity     541909 non-null  int64  \n",
      " 4   InvoiceDate  541909 non-null  object \n",
      " 5   UnitPrice    541909 non-null  float64\n",
      " 6   CustomerID   406829 non-null  float64\n",
      " 7   Country      541909 non-null  object \n",
      "dtypes: float64(2), int64(1), object(5)\n",
      "memory usage: 33.1+ MB\n",
      "None\n"
     ]
    }
   ],
   "source": [
    "#read data\n",
    "df=pd.read_csv(\"Online Retail.csv\")\n",
    "print(df.head())\n",
    "print(df.info())"
   ]
  },
  {
   "cell_type": "code",
   "execution_count": 48,
   "id": "289cf226-218d-4160-b01c-964cfc239dda",
   "metadata": {},
   "outputs": [
    {
     "data": {
      "text/html": [
       "<div>\n",
       "<style scoped>\n",
       "    .dataframe tbody tr th:only-of-type {\n",
       "        vertical-align: middle;\n",
       "    }\n",
       "\n",
       "    .dataframe tbody tr th {\n",
       "        vertical-align: top;\n",
       "    }\n",
       "\n",
       "    .dataframe thead th {\n",
       "        text-align: right;\n",
       "    }\n",
       "</style>\n",
       "<table border=\"1\" class=\"dataframe\">\n",
       "  <thead>\n",
       "    <tr style=\"text-align: right;\">\n",
       "      <th></th>\n",
       "      <th>InvoiceNo</th>\n",
       "      <th>StockCode</th>\n",
       "      <th>Description</th>\n",
       "      <th>Quantity</th>\n",
       "      <th>InvoiceDate</th>\n",
       "      <th>UnitPrice</th>\n",
       "      <th>CustomerID</th>\n",
       "      <th>Country</th>\n",
       "    </tr>\n",
       "  </thead>\n",
       "  <tbody>\n",
       "    <tr>\n",
       "      <th>0</th>\n",
       "      <td>536365</td>\n",
       "      <td>85123A</td>\n",
       "      <td>WHITE HANGING HEART T-LIGHT HOLDER</td>\n",
       "      <td>6</td>\n",
       "      <td>12/1/2010 8:26</td>\n",
       "      <td>2.55</td>\n",
       "      <td>17850.0</td>\n",
       "      <td>United Kingdom</td>\n",
       "    </tr>\n",
       "    <tr>\n",
       "      <th>49</th>\n",
       "      <td>536373</td>\n",
       "      <td>85123A</td>\n",
       "      <td>WHITE HANGING HEART T-LIGHT HOLDER</td>\n",
       "      <td>6</td>\n",
       "      <td>12/1/2010 9:02</td>\n",
       "      <td>2.55</td>\n",
       "      <td>17850.0</td>\n",
       "      <td>United Kingdom</td>\n",
       "    </tr>\n",
       "    <tr>\n",
       "      <th>66</th>\n",
       "      <td>536375</td>\n",
       "      <td>85123A</td>\n",
       "      <td>WHITE HANGING HEART T-LIGHT HOLDER</td>\n",
       "      <td>6</td>\n",
       "      <td>12/1/2010 9:32</td>\n",
       "      <td>2.55</td>\n",
       "      <td>17850.0</td>\n",
       "      <td>United Kingdom</td>\n",
       "    </tr>\n",
       "    <tr>\n",
       "      <th>220</th>\n",
       "      <td>536390</td>\n",
       "      <td>85123A</td>\n",
       "      <td>WHITE HANGING HEART T-LIGHT HOLDER</td>\n",
       "      <td>64</td>\n",
       "      <td>12/1/2010 10:19</td>\n",
       "      <td>2.55</td>\n",
       "      <td>17511.0</td>\n",
       "      <td>United Kingdom</td>\n",
       "    </tr>\n",
       "    <tr>\n",
       "      <th>262</th>\n",
       "      <td>536394</td>\n",
       "      <td>85123A</td>\n",
       "      <td>WHITE HANGING HEART T-LIGHT HOLDER</td>\n",
       "      <td>32</td>\n",
       "      <td>12/1/2010 10:39</td>\n",
       "      <td>2.55</td>\n",
       "      <td>13408.0</td>\n",
       "      <td>United Kingdom</td>\n",
       "    </tr>\n",
       "    <tr>\n",
       "      <th>...</th>\n",
       "      <td>...</td>\n",
       "      <td>...</td>\n",
       "      <td>...</td>\n",
       "      <td>...</td>\n",
       "      <td>...</td>\n",
       "      <td>...</td>\n",
       "      <td>...</td>\n",
       "      <td>...</td>\n",
       "    </tr>\n",
       "    <tr>\n",
       "      <th>537291</th>\n",
       "      <td>581246</td>\n",
       "      <td>85123A</td>\n",
       "      <td>WHITE HANGING HEART T-LIGHT HOLDER</td>\n",
       "      <td>1</td>\n",
       "      <td>12/8/2011 10:59</td>\n",
       "      <td>2.95</td>\n",
       "      <td>15453.0</td>\n",
       "      <td>United Kingdom</td>\n",
       "    </tr>\n",
       "    <tr>\n",
       "      <th>537326</th>\n",
       "      <td>581253</td>\n",
       "      <td>85123A</td>\n",
       "      <td>WHITE HANGING HEART T-LIGHT HOLDER</td>\n",
       "      <td>2</td>\n",
       "      <td>12/8/2011 11:15</td>\n",
       "      <td>2.95</td>\n",
       "      <td>16891.0</td>\n",
       "      <td>United Kingdom</td>\n",
       "    </tr>\n",
       "    <tr>\n",
       "      <th>537852</th>\n",
       "      <td>581356</td>\n",
       "      <td>85123A</td>\n",
       "      <td>WHITE HANGING HEART T-LIGHT HOLDER</td>\n",
       "      <td>6</td>\n",
       "      <td>12/8/2011 12:28</td>\n",
       "      <td>2.95</td>\n",
       "      <td>17830.0</td>\n",
       "      <td>United Kingdom</td>\n",
       "    </tr>\n",
       "    <tr>\n",
       "      <th>539979</th>\n",
       "      <td>581452</td>\n",
       "      <td>85123A</td>\n",
       "      <td>WHITE HANGING HEART T-LIGHT HOLDER</td>\n",
       "      <td>32</td>\n",
       "      <td>12/8/2011 18:03</td>\n",
       "      <td>2.55</td>\n",
       "      <td>17675.0</td>\n",
       "      <td>United Kingdom</td>\n",
       "    </tr>\n",
       "    <tr>\n",
       "      <th>540217</th>\n",
       "      <td>581472</td>\n",
       "      <td>85123A</td>\n",
       "      <td>WHITE HANGING HEART T-LIGHT HOLDER</td>\n",
       "      <td>6</td>\n",
       "      <td>12/8/2011 19:55</td>\n",
       "      <td>2.95</td>\n",
       "      <td>15796.0</td>\n",
       "      <td>United Kingdom</td>\n",
       "    </tr>\n",
       "  </tbody>\n",
       "</table>\n",
       "<p>2369 rows × 8 columns</p>\n",
       "</div>"
      ],
      "text/plain": [
       "       InvoiceNo StockCode                         Description  Quantity  \\\n",
       "0         536365    85123A  WHITE HANGING HEART T-LIGHT HOLDER         6   \n",
       "49        536373    85123A  WHITE HANGING HEART T-LIGHT HOLDER         6   \n",
       "66        536375    85123A  WHITE HANGING HEART T-LIGHT HOLDER         6   \n",
       "220       536390    85123A  WHITE HANGING HEART T-LIGHT HOLDER        64   \n",
       "262       536394    85123A  WHITE HANGING HEART T-LIGHT HOLDER        32   \n",
       "...          ...       ...                                 ...       ...   \n",
       "537291    581246    85123A  WHITE HANGING HEART T-LIGHT HOLDER         1   \n",
       "537326    581253    85123A  WHITE HANGING HEART T-LIGHT HOLDER         2   \n",
       "537852    581356    85123A  WHITE HANGING HEART T-LIGHT HOLDER         6   \n",
       "539979    581452    85123A  WHITE HANGING HEART T-LIGHT HOLDER        32   \n",
       "540217    581472    85123A  WHITE HANGING HEART T-LIGHT HOLDER         6   \n",
       "\n",
       "            InvoiceDate  UnitPrice  CustomerID         Country  \n",
       "0        12/1/2010 8:26       2.55     17850.0  United Kingdom  \n",
       "49       12/1/2010 9:02       2.55     17850.0  United Kingdom  \n",
       "66       12/1/2010 9:32       2.55     17850.0  United Kingdom  \n",
       "220     12/1/2010 10:19       2.55     17511.0  United Kingdom  \n",
       "262     12/1/2010 10:39       2.55     13408.0  United Kingdom  \n",
       "...                 ...        ...         ...             ...  \n",
       "537291  12/8/2011 10:59       2.95     15453.0  United Kingdom  \n",
       "537326  12/8/2011 11:15       2.95     16891.0  United Kingdom  \n",
       "537852  12/8/2011 12:28       2.95     17830.0  United Kingdom  \n",
       "539979  12/8/2011 18:03       2.55     17675.0  United Kingdom  \n",
       "540217  12/8/2011 19:55       2.95     15796.0  United Kingdom  \n",
       "\n",
       "[2369 rows x 8 columns]"
      ]
     },
     "execution_count": 48,
     "metadata": {},
     "output_type": "execute_result"
    }
   ],
   "source": [
    "''' \n",
    "step3: \n",
    "'''\n",
    "product=\"WHITE HANGING HEART T-LIGHT HOLDER\"\n",
    "product_df=df[df[\"Description\"]==product]\n",
    "product_df"
   ]
  },
  {
   "cell_type": "code",
   "execution_count": null,
   "id": "39731922-413d-46a1-ad69-c0eb4c6b580a",
   "metadata": {},
   "outputs": [],
   "source": []
  },
  {
   "cell_type": "code",
   "execution_count": 42,
   "id": "a694254e-b16d-4ec9-b158-84c60902ac08",
   "metadata": {},
   "outputs": [],
   "source": [
    "#step4:calculat purchase probability\n",
    "total_transactions=df.InvoiceNo.nunique()\n",
    "product_transactions=len(product_df)"
   ]
  },
  {
   "cell_type": "code",
   "execution_count": 43,
   "id": "a0fe7854-c210-4587-90fa-64daf3d2930a",
   "metadata": {},
   "outputs": [],
   "source": [
    "purchase_probability=product_transactions/total_transactions\n"
   ]
  },
  {
   "cell_type": "code",
   "execution_count": 45,
   "id": "fbe6817d-4e3e-401c-b8c7-567106b712f0",
   "metadata": {},
   "outputs": [
    {
     "name": "stdout",
     "output_type": "stream",
     "text": [
      "tptal transactions:25900\n",
      "transactions with \"WHITE HANGING HEART T-LIGHT HOLDER\":2369\n",
      "purchase probability:0.0915\n"
     ]
    }
   ],
   "source": [
    "print(f'tptal transactions:{total_transactions}')\n",
    "print(f'transactions with \"{product}\":{product_transactions}')\n",
    "print(f'purchase probability:{purchase_probability:.4f}')\n"
   ]
  },
  {
   "cell_type": "code",
   "execution_count": 46,
   "id": "37187018-254a-4902-bac4-1718e77d580c",
   "metadata": {},
   "outputs": [],
   "source": [
    "#step5\n",
    "\n",
    "n=100\n",
    "p=purchase_probability\n",
    "simulated_purchases=np.random.binomial(n,p,3000)\n"
   ]
  },
  {
   "cell_type": "code",
   "execution_count": 47,
   "id": "82dda01c-1c7b-4d42-a659-4a0b0f7ef9a7",
   "metadata": {},
   "outputs": [
    {
     "name": "stdout",
     "output_type": "stream",
     "text": [
      "       Number of Purchases\n",
      "count          3000.000000\n",
      "mean              9.191333\n",
      "std               2.868356\n",
      "min               1.000000\n",
      "25%               7.000000\n",
      "50%               9.000000\n",
      "75%              11.000000\n",
      "max              21.000000\n"
     ]
    }
   ],
   "source": [
    "#analyse the simulated data\n",
    "simulated_df=pd.DataFrame(simulated_purchases,columns=[\"Number of Purchases\"])\n",
    "print(simulated_df.describe())"
   ]
  },
  {
   "cell_type": "code",
   "execution_count": null,
   "id": "027c522b-1d3e-45a7-8dd5-10353e41ade3",
   "metadata": {},
   "outputs": [],
   "source": [
    "#assignment: do a binomial distribution sumulation analysis for weekends of the tips dataset ()\n"
   ]
  }
 ],
 "metadata": {
  "kernelspec": {
   "display_name": "Python 3 (ipykernel)",
   "language": "python",
   "name": "python3"
  },
  "language_info": {
   "codemirror_mode": {
    "name": "ipython",
    "version": 3
   },
   "file_extension": ".py",
   "mimetype": "text/x-python",
   "name": "python",
   "nbconvert_exporter": "python",
   "pygments_lexer": "ipython3",
   "version": "3.12.3"
  }
 },
 "nbformat": 4,
 "nbformat_minor": 5
}
